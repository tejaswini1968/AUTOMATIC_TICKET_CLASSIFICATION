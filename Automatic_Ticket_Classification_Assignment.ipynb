{
 "cells": [
  {
   "cell_type": "markdown",
   "metadata": {
    "id": "rhR-ZUkwJrFn"
   },
   "source": [
    "## Problem Statement \n",
    "\n",
    "We build a model that is able to classify customer complaints based on the products/services. we segregated these tickets into their relevant categories and, therefore, help in the quick resolution of the issue.\n",
    "\n",
    "we did topic modelling on the <b>.json</b> data provided by the company. Since this data is not labelled, we applied NMF to analyse patterns and classify tickets into the following five clusters based on their products/services:\n",
    "\n",
    "* Credit card / Prepaid card\n",
    "\n",
    "* Bank account services\n",
    "\n",
    "* Theft/Dispute reporting\n",
    "\n",
    "* Mortgages/loans\n",
    "\n",
    "* Others \n",
    "\n",
    "\n",
    "With the help of topic modelling, you will be able to map each ticket onto its respective department/category. You can then use this data to train any supervised model such as logistic regression, decision tree or random forest. Using this trained model, you can classify any new customer complaint support ticket into its relevant department."
   ]
  },
  {
   "cell_type": "markdown",
   "metadata": {
    "id": "mcgXVNyaLUFS"
   },
   "source": [
    "## METHODS PERFORMED:\n",
    "\n",
    "You need to perform the following eight major tasks to complete the assignment:\n",
    "\n",
    "1.  Data Reading\n",
    "\n",
    "2. Data cleaning\n",
    "\n",
    "3. Data presprocessing\n",
    "\n",
    "4. Data Visualization\n",
    "\n",
    "5. Feature extraction\n",
    "\n",
    "6. Topic modelling \n",
    "\n",
    "7. Model building \n",
    "\n",
    "   i)logistic Regression\n",
    "   \n",
    "   ii)Decision Trees\n",
    "   \n",
    "   iii)Random Forest\n",
    "\n",
    "\n",
    "8. Model inference"
   ]
  },
  {
   "cell_type": "markdown",
   "metadata": {},
   "source": [
    "# DATA READING"
   ]
  },
  {
   "cell_type": "markdown",
   "metadata": {
    "id": "JuLFIymAL58u"
   },
   "source": [
    "### Importing the necessary libraries"
   ]
  },
  {
   "cell_type": "code",
   "execution_count": 1,
   "metadata": {
    "id": "O-Q9pqrcJrFr"
   },
   "outputs": [],
   "source": [
    "import json \n",
    "import numpy as np\n",
    "import pandas as pd\n",
    "import re, nltk, spacy, string\n",
    "import en_core_web_sm\n",
    "nlp = en_core_web_sm.load()\n",
    "import seaborn as sns\n",
    "import matplotlib.pyplot as plt\n",
    "%matplotlib inline\n",
    "\n",
    "from sklearn.feature_extraction.text import TfidfVectorizer\n",
    "from sklearn.feature_extraction.text import CountVectorizer\n",
    "\n",
    "from plotly.offline import plot\n",
    "import plotly.graph_objects as go\n",
    "import plotly.express as px\n",
    "from nltk.util import ngrams \n",
    "from collections import Counter\n",
    "from tqdm import tqdm\n",
    "tqdm.pandas()\n",
    "from pprint import pprint\n",
    "\n",
    "from sklearn.linear_model import LogisticRegression\n",
    "from sklearn.tree import DecisionTreeClassifier\n",
    "from sklearn.ensemble import RandomForestClassifier\n",
    "from sklearn.naive_bayes import MultinomialNB\n",
    "from sklearn.model_selection import StratifiedKFold,GridSearchCV,train_test_split\n",
    "from sklearn.metrics import roc_auc_score,accuracy_score,precision_score,recall_score,f1_score,classification_report\n",
    "from sklearn.metrics import confusion_matrix,ConfusionMatrixDisplay\n",
    "\n",
    "import warnings\n",
    "warnings.filterwarnings(\"ignore\")"
   ]
  },
  {
   "cell_type": "markdown",
   "metadata": {
    "id": "KtRLCsNVJrFt"
   },
   "source": [
    "### Loading the data\n",
    "\n",
    "The data is in JSON format and we converted it to a dataframe."
   ]
  },
  {
   "cell_type": "code",
   "execution_count": 2,
   "metadata": {
    "id": "puVzIf_iJrFt"
   },
   "outputs": [],
   "source": [
    "# Opening JSON file \n",
    "f = open(\"complaints-2021-05-14_08_16.json\")\n",
    "  \n",
    "# returns JSON object as  \n",
    "# a dictionary \n",
    "data = json.load(f)#loading the data\n",
    "df=pd.json_normalize(data)#normalizing it"
   ]
  },
  {
   "cell_type": "code",
   "execution_count": 3,
   "metadata": {},
   "outputs": [
    {
     "data": {
      "text/html": [
       "<div>\n",
       "<style scoped>\n",
       "    .dataframe tbody tr th:only-of-type {\n",
       "        vertical-align: middle;\n",
       "    }\n",
       "\n",
       "    .dataframe tbody tr th {\n",
       "        vertical-align: top;\n",
       "    }\n",
       "\n",
       "    .dataframe thead th {\n",
       "        text-align: right;\n",
       "    }\n",
       "</style>\n",
       "<table border=\"1\" class=\"dataframe\">\n",
       "  <thead>\n",
       "    <tr style=\"text-align: right;\">\n",
       "      <th></th>\n",
       "      <th>_index</th>\n",
       "      <th>_type</th>\n",
       "      <th>_id</th>\n",
       "      <th>_score</th>\n",
       "      <th>_source.tags</th>\n",
       "      <th>_source.zip_code</th>\n",
       "      <th>_source.complaint_id</th>\n",
       "      <th>_source.issue</th>\n",
       "      <th>_source.date_received</th>\n",
       "      <th>_source.state</th>\n",
       "      <th>...</th>\n",
       "      <th>_source.company_response</th>\n",
       "      <th>_source.company</th>\n",
       "      <th>_source.submitted_via</th>\n",
       "      <th>_source.date_sent_to_company</th>\n",
       "      <th>_source.company_public_response</th>\n",
       "      <th>_source.sub_product</th>\n",
       "      <th>_source.timely</th>\n",
       "      <th>_source.complaint_what_happened</th>\n",
       "      <th>_source.sub_issue</th>\n",
       "      <th>_source.consumer_consent_provided</th>\n",
       "    </tr>\n",
       "  </thead>\n",
       "  <tbody>\n",
       "    <tr>\n",
       "      <th>0</th>\n",
       "      <td>complaint-public-v2</td>\n",
       "      <td>complaint</td>\n",
       "      <td>3211475</td>\n",
       "      <td>0.0</td>\n",
       "      <td>None</td>\n",
       "      <td>90301</td>\n",
       "      <td>3211475</td>\n",
       "      <td>Attempts to collect debt not owed</td>\n",
       "      <td>2019-04-13T12:00:00-05:00</td>\n",
       "      <td>CA</td>\n",
       "      <td>...</td>\n",
       "      <td>Closed with explanation</td>\n",
       "      <td>JPMORGAN CHASE &amp; CO.</td>\n",
       "      <td>Web</td>\n",
       "      <td>2019-04-13T12:00:00-05:00</td>\n",
       "      <td>None</td>\n",
       "      <td>Credit card debt</td>\n",
       "      <td>Yes</td>\n",
       "      <td></td>\n",
       "      <td>Debt is not yours</td>\n",
       "      <td>Consent not provided</td>\n",
       "    </tr>\n",
       "    <tr>\n",
       "      <th>1</th>\n",
       "      <td>complaint-public-v2</td>\n",
       "      <td>complaint</td>\n",
       "      <td>3229299</td>\n",
       "      <td>0.0</td>\n",
       "      <td>Servicemember</td>\n",
       "      <td>319XX</td>\n",
       "      <td>3229299</td>\n",
       "      <td>Written notification about debt</td>\n",
       "      <td>2019-05-01T12:00:00-05:00</td>\n",
       "      <td>GA</td>\n",
       "      <td>...</td>\n",
       "      <td>Closed with explanation</td>\n",
       "      <td>JPMORGAN CHASE &amp; CO.</td>\n",
       "      <td>Web</td>\n",
       "      <td>2019-05-01T12:00:00-05:00</td>\n",
       "      <td>None</td>\n",
       "      <td>Credit card debt</td>\n",
       "      <td>Yes</td>\n",
       "      <td>Good morning my name is XXXX XXXX and I apprec...</td>\n",
       "      <td>Didn't receive enough information to verify debt</td>\n",
       "      <td>Consent provided</td>\n",
       "    </tr>\n",
       "  </tbody>\n",
       "</table>\n",
       "<p>2 rows × 22 columns</p>\n",
       "</div>"
      ],
      "text/plain": [
       "                _index      _type      _id  _score   _source.tags  \\\n",
       "0  complaint-public-v2  complaint  3211475     0.0           None   \n",
       "1  complaint-public-v2  complaint  3229299     0.0  Servicemember   \n",
       "\n",
       "  _source.zip_code _source.complaint_id                      _source.issue  \\\n",
       "0            90301              3211475  Attempts to collect debt not owed   \n",
       "1            319XX              3229299    Written notification about debt   \n",
       "\n",
       "       _source.date_received _source.state  ... _source.company_response  \\\n",
       "0  2019-04-13T12:00:00-05:00            CA  ...  Closed with explanation   \n",
       "1  2019-05-01T12:00:00-05:00            GA  ...  Closed with explanation   \n",
       "\n",
       "        _source.company _source.submitted_via _source.date_sent_to_company  \\\n",
       "0  JPMORGAN CHASE & CO.                   Web    2019-04-13T12:00:00-05:00   \n",
       "1  JPMORGAN CHASE & CO.                   Web    2019-05-01T12:00:00-05:00   \n",
       "\n",
       "  _source.company_public_response _source.sub_product _source.timely  \\\n",
       "0                            None    Credit card debt            Yes   \n",
       "1                            None    Credit card debt            Yes   \n",
       "\n",
       "                     _source.complaint_what_happened  \\\n",
       "0                                                      \n",
       "1  Good morning my name is XXXX XXXX and I apprec...   \n",
       "\n",
       "                                  _source.sub_issue  \\\n",
       "0                                 Debt is not yours   \n",
       "1  Didn't receive enough information to verify debt   \n",
       "\n",
       "  _source.consumer_consent_provided  \n",
       "0              Consent not provided  \n",
       "1                  Consent provided  \n",
       "\n",
       "[2 rows x 22 columns]"
      ]
     },
     "execution_count": 3,
     "metadata": {},
     "output_type": "execute_result"
    }
   ],
   "source": [
    "#displaying first two rows\n",
    "df.head(2)"
   ]
  },
  {
   "cell_type": "code",
   "execution_count": 4,
   "metadata": {
    "id": "Lf8ufHH5JrFu"
   },
   "outputs": [
    {
     "name": "stdout",
     "output_type": "stream",
     "text": [
      "<class 'pandas.core.frame.DataFrame'>\n",
      "RangeIndex: 78313 entries, 0 to 78312\n",
      "Data columns (total 22 columns):\n",
      " #   Column                             Non-Null Count  Dtype  \n",
      "---  ------                             --------------  -----  \n",
      " 0   _index                             78313 non-null  object \n",
      " 1   _type                              78313 non-null  object \n",
      " 2   _id                                78313 non-null  object \n",
      " 3   _score                             78313 non-null  float64\n",
      " 4   _source.tags                       10900 non-null  object \n",
      " 5   _source.zip_code                   71556 non-null  object \n",
      " 6   _source.complaint_id               78313 non-null  object \n",
      " 7   _source.issue                      78313 non-null  object \n",
      " 8   _source.date_received              78313 non-null  object \n",
      " 9   _source.state                      76322 non-null  object \n",
      " 10  _source.consumer_disputed          78313 non-null  object \n",
      " 11  _source.product                    78313 non-null  object \n",
      " 12  _source.company_response           78313 non-null  object \n",
      " 13  _source.company                    78313 non-null  object \n",
      " 14  _source.submitted_via              78313 non-null  object \n",
      " 15  _source.date_sent_to_company       78313 non-null  object \n",
      " 16  _source.company_public_response    4 non-null      object \n",
      " 17  _source.sub_product                67742 non-null  object \n",
      " 18  _source.timely                     78313 non-null  object \n",
      " 19  _source.complaint_what_happened    78313 non-null  object \n",
      " 20  _source.sub_issue                  32016 non-null  object \n",
      " 21  _source.consumer_consent_provided  77305 non-null  object \n",
      "dtypes: float64(1), object(21)\n",
      "memory usage: 13.1+ MB\n"
     ]
    }
   ],
   "source": [
    "# Inspecting the dataframe to understand the given data.\n",
    "df.info()"
   ]
  },
  {
   "cell_type": "markdown",
   "metadata": {},
   "source": [
    "# DATA CLEANING"
   ]
  },
  {
   "cell_type": "code",
   "execution_count": 5,
   "metadata": {
    "id": "Dwcty-wmJrFw"
   },
   "outputs": [
    {
     "name": "stdout",
     "output_type": "stream",
     "text": [
      "The column names are:  ['_index' '_type' '_id' '_score' '_source.tags' '_source.zip_code'\n",
      " '_source.complaint_id' '_source.issue' '_source.date_received'\n",
      " '_source.state' '_source.consumer_disputed' '_source.product'\n",
      " '_source.company_response' '_source.company' '_source.submitted_via'\n",
      " '_source.date_sent_to_company' '_source.company_public_response'\n",
      " '_source.sub_product' '_source.timely' '_source.complaint_what_happened'\n",
      " '_source.sub_issue' '_source.consumer_consent_provided']\n"
     ]
    }
   ],
   "source": [
    "#printing the column names\n",
    "print(\"The column names are: \", df.columns.values)"
   ]
  },
  {
   "cell_type": "code",
   "execution_count": 6,
   "metadata": {
    "id": "FYCtKXD1JrFw"
   },
   "outputs": [],
   "source": [
    "#Assigning new column names\n",
    "df.rename(columns={'_index':'index',\n",
    "  '_type':'type',\n",
    "  '_id':'id',\n",
    "  '_score':'score',\n",
    "  '_source.tags':'tags',\n",
    "  '_source.zip_code':'',\n",
    " '_source.complaint_id':'complaint_id',\n",
    " '_source.issue':'issue',\n",
    " '_source.date_received':'date_received',\n",
    " '_source.state':'state',\n",
    " '_source.consumer_disputed':'consumer_disputed',\n",
    " '_source.product':'product',\n",
    " '_source.company_response':'company_response',\n",
    " '_source.company':'company',\n",
    " '_source.submitted_via':'submitted_via',\n",
    " '_source.date_sent_to_company':'date_sent_to_company',\n",
    " '_source.company_public_response':'company_public_response',\n",
    " '_source.sub_product':'sub_product',\n",
    " '_source.timely':'timely',\n",
    " '_source.complaint_what_happened':'complaint_what_happened',\n",
    " '_source.sub_issue':'sub_issue',\n",
    " '_source.consumer_consent_provided':'consumer_consent_provided'},inplace=True)"
   ]
  },
  {
   "cell_type": "code",
   "execution_count": 7,
   "metadata": {
    "id": "grQUPFL5JrFx"
   },
   "outputs": [
    {
     "name": "stdout",
     "output_type": "stream",
     "text": [
      "No. of rows with nan in complaints column:  57241\n"
     ]
    }
   ],
   "source": [
    "#Assigning nan in place of blanks in the complaints column\n",
    "df['complaint_what_happened'].replace('', np.nan, inplace=True)\n",
    "print(\"No. of rows with nan in complaints column: \", df.complaint_what_happened.isnull().sum())"
   ]
  },
  {
   "cell_type": "code",
   "execution_count": 8,
   "metadata": {
    "id": "Jfxd8VSmJrFy"
   },
   "outputs": [],
   "source": [
    "#Removing all rows where complaints column is nan\n",
    "df.dropna(subset=['complaint_what_happened'],inplace=True)"
   ]
  },
  {
   "cell_type": "markdown",
   "metadata": {},
   "source": [
    "# DATA PREPROCESSING"
   ]
  },
  {
   "cell_type": "markdown",
   "metadata": {
    "id": "L944HZpsJrFy"
   },
   "source": [
    "### Prepare the text for topic modeling\n",
    "\n",
    "Once you have removed all the blank complaints, you need to:\n",
    "\n",
    "* converting into lower case\n",
    "* Removing text inside square brackets\n",
    "* Removing punctuation\n",
    "* Removing words containing numbers\n",
    "\n",
    "\n",
    "Once you have done these cleaning operations you need to perform the following:\n",
    "* Lemmatizing the texts\n",
    "* Extract the POS tags of the lemmatized text and remove all the words which have tags other than NN[tag == \"NN\"].\n"
   ]
  },
  {
   "cell_type": "code",
   "execution_count": 9,
   "metadata": {
    "id": "qm7SjjSkJrFz"
   },
   "outputs": [],
   "source": [
    "# function to clean the text and remove all the unnecessary elements.\n",
    "def clean_text(text):\n",
    "  text=text.lower()  #convert to lower case\n",
    "  text=re.sub(r'^\\[[\\w\\s]\\]+$',' ',text) #Remove text in square brackets\n",
    "  text=re.sub(r'[^\\w\\s]',' ',text) #Remove punctuation\n",
    "  text=re.sub(r'^[a-zA-Z]\\d+\\w*$',' ',text) #Remove words with numbers\n",
    "  return text"
   ]
  },
  {
   "cell_type": "code",
   "execution_count": 10,
   "metadata": {},
   "outputs": [
    {
     "name": "stdout",
     "output_type": "stream",
     "text": [
      "On XX/XX/XXXX my checking and saving accounts were both restricted for an unknown reason, and the customer service from the fraud department told me that they can't disclose any information about why my account was restricted, but my account will be closed in a week and the check will be mailed out. However, On XX/XX/XXXX, when I called the fraud department again, they told the check can't be mailed out, because they realize that there are two unknown sources of direct deposit coming into my checking account for the name under my husband and my son, and that was the reason they can't mail out my check for the remaining balance of {$5000.00} ( checking ) and {$390.00} ( saving ) even the account has already been closed, and he told me on the phone that all three of us must go down to the branch and meet with a personal banker with two forms of ID. We did go down to the branch on XX/XX/XXXX and show our two forms of ID to officer relationship banker XXXX XXXX  XXXX ( NMSL ID:XXXX ), then she told me that the check will be mailed out in two weeks. After two weeks, I contacted the fraud department, they told me my account is under review, and check can't be mailed out, and they CAN'T PROVIDE ME WITH A REASON OF WHY IT IS STILL UNDER REVIEW AND TIME FRAME FOR THE REVIEW. THEN, I TOLD THEM TO TRANSFER ME TO HIS SUPERVISOR, And I told the supervisor that I will file a complaint with Office of the comptroller of the currency, then the supervisor decided to transfer me to the executive office, and the guy named XXXX in the executive office created a case and assigned my case to XXXX XXXX ( she works for executive office, and her job position is Business Operation Analyst ). On Tuesday, XX/XX/XXXX, XXXX XXXX contacted me, and I explained to her what has happened to my account, I told her that the direct deposits coming into my account is under my husband and my son, and we have visited the branch on XX/XX/XXXX to show 2 forms of ID for all three of us, and if the funds can't be released, my family is facing a possibility of eviction, because we don't have the money to pay the rent, and we are going to become homeless. I told her that the direct deposit under my husband is his unemployment benefit money and direct deposit under my son is from his payroll for a campus job, I even told XXXX that I have all the documents from my son 's school and the approval letter for unemployment benefit. she told me that she will work on my case and get a response for me ASAP. The next day ( XX/XX/XXXX ) the assistant Branch manager XXXX XXXX ( NMLS XXXX ) contacted me and told me she wants to discuss my account with me, then I brought all documentation with me and went down to the branch with my son, When we get to the branch, she told me and my son that she doesnt know what is going on with my checks, and told me to wait while she is contacting different chase departments, Me and my son told her several times, that We have the direct number to reach out to XXXX XXXX , that XXXX XXXX is from the executive office and she is working on my case and my case number is XXXX, and you can reach out to XXXX XXXX by calling XXXX and then enter the number XXXX, that way you ( XXXX ) dont have to wait on the phone to talk to other people about what has happened to my account. However, XXXX refused to do that without giving me a valid reason and kept me and my son waiting there for 3 hours, then after 3 hours she told me that she still doesnt know what is going on and she ( XXXX ) has finally decided to email XXXX after 3 hours, and told us to go home. After we went home, I and my son contacted XXXX XXXX, and she told me she wanted XXXX to look at the documents we have, however, XXXX didnt even take a look at our ID to verify our identity with the three hours that we were there. On XX/XX/XXXX, I and my son went down to the branch try to make a complaint to the branch manager XXXX XXXX ( NMLS ID:XXXX ) about the terrible treatment that we received yesterday from XXXX XXXX after listening to us, she decided to make a copy of my ID card, my sons ID and U.S passport, MY husbands ID card and U.S passport, and the approval letter for unemployment benefit and told me she will forward to XXXX XXXX , if XXXX XXXX requested. However, since, the phone call on XX/XX/XXXX, there are no updates from XXXX XXXX even though I explained everything to her on the phone on XX/XX/XXXX, and XXXX is aware that we are facing the possibility of eviction, because Chase still has not released the funds in my checking and saving account, and my family needs the money to pay for rent and other bills. AS OF THIS MOMENT XX/XX/XXXX. THERE IS STILL NO ANY UPDATES FROM CHASE.\n",
      "******************************\n",
      "on xx xx xxxx my checking and saving accounts were both restricted for an unknown reason  and the customer service from the fraud department told me that they can t disclose any information about why my account was restricted  but my account will be closed in a week and the check will be mailed out  however  on xx xx xxxx  when i called the fraud department again  they told the check can t be mailed out  because they realize that there are two unknown sources of direct deposit coming into my checking account for the name under my husband and my son  and that was the reason they can t mail out my check for the remaining balance of   5000 00    checking   and   390 00    saving   even the account has already been closed  and he told me on the phone that all three of us must go down to the branch and meet with a personal banker with two forms of id  we did go down to the branch on xx xx xxxx and show our two forms of id to officer relationship banker xxxx xxxx  xxxx   nmsl id xxxx    then she told me that the check will be mailed out in two weeks  after two weeks  i contacted the fraud department  they told me my account is under review  and check can t be mailed out  and they can t provide me with a reason of why it is still under review and time frame for the review  then  i told them to transfer me to his supervisor  and i told the supervisor that i will file a complaint with office of the comptroller of the currency  then the supervisor decided to transfer me to the executive office  and the guy named xxxx in the executive office created a case and assigned my case to xxxx xxxx   she works for executive office  and her job position is business operation analyst    on tuesday  xx xx xxxx  xxxx xxxx contacted me  and i explained to her what has happened to my account  i told her that the direct deposits coming into my account is under my husband and my son  and we have visited the branch on xx xx xxxx to show 2 forms of id for all three of us  and if the funds can t be released  my family is facing a possibility of eviction  because we don t have the money to pay the rent  and we are going to become homeless  i told her that the direct deposit under my husband is his unemployment benefit money and direct deposit under my son is from his payroll for a campus job  i even told xxxx that i have all the documents from my son  s school and the approval letter for unemployment benefit  she told me that she will work on my case and get a response for me asap  the next day   xx xx xxxx   the assistant branch manager xxxx xxxx   nmls xxxx   contacted me and told me she wants to discuss my account with me  then i brought all documentation with me and went down to the branch with my son  when we get to the branch  she told me and my son that she doesnt know what is going on with my checks  and told me to wait while she is contacting different chase departments  me and my son told her several times  that we have the direct number to reach out to xxxx xxxx   that xxxx xxxx is from the executive office and she is working on my case and my case number is xxxx  and you can reach out to xxxx xxxx by calling xxxx and then enter the number xxxx  that way you   xxxx   dont have to wait on the phone to talk to other people about what has happened to my account  however  xxxx refused to do that without giving me a valid reason and kept me and my son waiting there for 3 hours  then after 3 hours she told me that she still doesnt know what is going on and she   xxxx   has finally decided to email xxxx after 3 hours  and told us to go home  after we went home  i and my son contacted xxxx xxxx  and she told me she wanted xxxx to look at the documents we have  however  xxxx didnt even take a look at our id to verify our identity with the three hours that we were there  on xx xx xxxx  i and my son went down to the branch try to make a complaint to the branch manager xxxx xxxx   nmls id xxxx   about the terrible treatment that we received yesterday from xxxx xxxx after listening to us  she decided to make a copy of my id card  my sons id and u s passport  my husbands id card and u s passport  and the approval letter for unemployment benefit and told me she will forward to xxxx xxxx   if xxxx xxxx requested  however  since  the phone call on xx xx xxxx  there are no updates from xxxx xxxx even though i explained everything to her on the phone on xx xx xxxx  and xxxx is aware that we are facing the possibility of eviction  because chase still has not released the funds in my checking and saving account  and my family needs the money to pay for rent and other bills  as of this moment xx xx xxxx  there is still no any updates from chase \n"
     ]
    }
   ],
   "source": [
    "#checking a sample complaint whethwe it has removed unneccessary elements\n",
    "sample = df.complaint_what_happened.sample().values[0]\n",
    "print(sample)\n",
    "print(\"******************************\")\n",
    "cleanSample = clean_text(sample)\n",
    "print(cleanSample)"
   ]
  },
  {
   "cell_type": "code",
   "execution_count": 11,
   "metadata": {
    "id": "zgOu8t8HJrFz"
   },
   "outputs": [],
   "source": [
    "#function to Lemmatize the texts\n",
    "def lemmatize_text(text):\n",
    "  sentence = []\n",
    "  doc = nlp(text)\n",
    "  for word in doc:\n",
    "    sentence.append(word.lemma_)\n",
    "\n",
    "  return \" \".join(sentence)"
   ]
  },
  {
   "cell_type": "code",
   "execution_count": 12,
   "metadata": {},
   "outputs": [
    {
     "name": "stdout",
     "output_type": "stream",
     "text": [
      "on xx xx xxxx my checking and saving accounts were both restricted for an unknown reason  and the customer service from the fraud department told me that they can t disclose any information about why my account was restricted  but my account will be closed in a week and the check will be mailed out  however  on xx xx xxxx  when i called the fraud department again  they told the check can t be mailed out  because they realize that there are two unknown sources of direct deposit coming into my checking account for the name under my husband and my son  and that was the reason they can t mail out my check for the remaining balance of   5000 00    checking   and   390 00    saving   even the account has already been closed  and he told me on the phone that all three of us must go down to the branch and meet with a personal banker with two forms of id  we did go down to the branch on xx xx xxxx and show our two forms of id to officer relationship banker xxxx xxxx  xxxx   nmsl id xxxx    then she told me that the check will be mailed out in two weeks  after two weeks  i contacted the fraud department  they told me my account is under review  and check can t be mailed out  and they can t provide me with a reason of why it is still under review and time frame for the review  then  i told them to transfer me to his supervisor  and i told the supervisor that i will file a complaint with office of the comptroller of the currency  then the supervisor decided to transfer me to the executive office  and the guy named xxxx in the executive office created a case and assigned my case to xxxx xxxx   she works for executive office  and her job position is business operation analyst    on tuesday  xx xx xxxx  xxxx xxxx contacted me  and i explained to her what has happened to my account  i told her that the direct deposits coming into my account is under my husband and my son  and we have visited the branch on xx xx xxxx to show 2 forms of id for all three of us  and if the funds can t be released  my family is facing a possibility of eviction  because we don t have the money to pay the rent  and we are going to become homeless  i told her that the direct deposit under my husband is his unemployment benefit money and direct deposit under my son is from his payroll for a campus job  i even told xxxx that i have all the documents from my son  s school and the approval letter for unemployment benefit  she told me that she will work on my case and get a response for me asap  the next day   xx xx xxxx   the assistant branch manager xxxx xxxx   nmls xxxx   contacted me and told me she wants to discuss my account with me  then i brought all documentation with me and went down to the branch with my son  when we get to the branch  she told me and my son that she doesnt know what is going on with my checks  and told me to wait while she is contacting different chase departments  me and my son told her several times  that we have the direct number to reach out to xxxx xxxx   that xxxx xxxx is from the executive office and she is working on my case and my case number is xxxx  and you can reach out to xxxx xxxx by calling xxxx and then enter the number xxxx  that way you   xxxx   dont have to wait on the phone to talk to other people about what has happened to my account  however  xxxx refused to do that without giving me a valid reason and kept me and my son waiting there for 3 hours  then after 3 hours she told me that she still doesnt know what is going on and she   xxxx   has finally decided to email xxxx after 3 hours  and told us to go home  after we went home  i and my son contacted xxxx xxxx  and she told me she wanted xxxx to look at the documents we have  however  xxxx didnt even take a look at our id to verify our identity with the three hours that we were there  on xx xx xxxx  i and my son went down to the branch try to make a complaint to the branch manager xxxx xxxx   nmls id xxxx   about the terrible treatment that we received yesterday from xxxx xxxx after listening to us  she decided to make a copy of my id card  my sons id and u s passport  my husbands id card and u s passport  and the approval letter for unemployment benefit and told me she will forward to xxxx xxxx   if xxxx xxxx requested  however  since  the phone call on xx xx xxxx  there are no updates from xxxx xxxx even though i explained everything to her on the phone on xx xx xxxx  and xxxx is aware that we are facing the possibility of eviction  because chase still has not released the funds in my checking and saving account  and my family needs the money to pay for rent and other bills  as of this moment xx xx xxxx  there is still no any updates from chase \n",
      "*****************************\n",
      "on xx xx xxxx my checking and save account be both restrict for an unknown reason   and the customer service from the fraud department tell I that they can t disclose any information about why my account be restrict   but my account will be close in a week and the check will be mail out   however   on xx xx xxxx   when I call the fraud department again   they tell the check can t be mail out   because they realize that there be two unknown source of direct deposit come into my check account for the name under my husband and my son   and that be the reason they can t mail out my check for the remain balance of    5000 00     check    and    390 00     save    even the account have already be close   and he tell I on the phone that all three of we must go down to the branch and meet with a personal banker with two form of i d   we do go down to the branch on xx xx xxxx and show our two form of i d to officer relationship banker xxxx xxxx   xxxx    nmsl i d xxxx     then she tell I that the check will be mail out in two week   after two week   I contact the fraud department   they tell I my account be under review   and check can t be mail out   and they can t provide I with a reason of why it be still under review and time frame for the review   then   I tell they to transfer I to his supervisor   and I tell the supervisor that I will file a complaint with office of the comptroller of the currency   then the supervisor decide to transfer I to the executive office   and the guy name xxxx in the executive office create a case and assign my case to xxxx xxxx    she work for executive office   and her job position be business operation analyst     on tuesday   xx xx xxxx   xxxx xxxx contact I   and I explain to she what have happen to my account   I tell she that the direct deposit come into my account be under my husband and my son   and we have visit the branch on xx xx xxxx to show 2 form of i d for all three of we   and if the fund can t be release   my family be face a possibility of eviction   because we don t have the money to pay the rent   and we be go to become homeless   I tell she that the direct deposit under my husband be his unemployment benefit money and direct deposit under my son be from his payroll for a campus job   I even tell xxxx that I have all the document from my son   s school and the approval letter for unemployment benefit   she tell I that she will work on my case and get a response for I asap   the next day    xx xx xxxx    the assistant branch manager xxxx xxxx    nmls xxxx    contact I and tell I she want to discuss my account with I   then I bring all documentation with I and go down to the branch with my son   when we get to the branch   she tell I and my son that she do not know what be go on with my check   and tell I to wait while she be contact different chase department   I and my son tell she several time   that we have the direct number to reach out to xxxx xxxx    that xxxx xxxx be from the executive office and she be work on my case and my case number be xxxx   and you can reach out to xxxx xxxx by call xxxx and then enter the number xxxx   that way you    xxxx    do not have to wait on the phone to talk to other people about what have happen to my account   however   xxxx refuse to do that without give I a valid reason and keep I and my son wait there for 3 hour   then after 3 hour she tell I that she still do not know what be go on and she    xxxx    have finally decide to email xxxx after 3 hour   and tell we to go home   after we go home   I and my son contact xxxx xxxx   and she tell I she want xxxx to look at the document we have   however   xxxx do not even take a look at our i d to verify our identity with the three hour that we be there   on xx xx xxxx   I and my son go down to the branch try to make a complaint to the branch manager xxxx xxxx    nmls i d xxxx    about the terrible treatment that we receive yesterday from xxxx xxxx after listen to we   she decide to make a copy of my i d card   my son i d and u s passport   my husband i d card and u s passport   and the approval letter for unemployment benefit and tell I she will forward to xxxx xxxx    if xxxx xxxx request   however   since   the phone call on xx xx xxxx   there be no update from xxxx xxxx even though I explain everything to she on the phone on xx xx xxxx   and xxxx be aware that we be face the possibility of eviction   because chase still have not release the fund in my checking and saving account   and my family need the money to pay for rent and other bill   as of this moment xx xx xxxx   there be still no any update from chase\n"
     ]
    }
   ],
   "source": [
    "#taking a sample and lemmatizing it\n",
    "print(cleanSample)\n",
    "print(\"*****************************\")\n",
    "lemmatizedText =lemmatize_text(cleanSample)\n",
    "print(lemmatizedText)"
   ]
  },
  {
   "cell_type": "code",
   "execution_count": 13,
   "metadata": {
    "id": "uXnN7aa_JrF0"
   },
   "outputs": [],
   "source": [
    "#Creating a dataframe('df_clean') that will have only the complaints and the lemmatized complaints \n",
    "df_clean=pd.DataFrame()"
   ]
  },
  {
   "cell_type": "code",
   "execution_count": 14,
   "metadata": {
    "id": "nOiDVvEIJrF0"
   },
   "outputs": [
    {
     "name": "stderr",
     "output_type": "stream",
     "text": [
      "100%|██████████| 21072/21072 [00:03<00:00, 6547.43it/s]\n"
     ]
    }
   ],
   "source": [
    "df_clean['complaint'] = df['complaint_what_happened'].progress_apply(clean_text)"
   ]
  },
  {
   "cell_type": "code",
   "execution_count": 15,
   "metadata": {},
   "outputs": [
    {
     "name": "stderr",
     "output_type": "stream",
     "text": [
      "100%|██████████| 21072/21072 [26:41<00:00, 13.15it/s] \n"
     ]
    }
   ],
   "source": [
    "df_clean['lemmatized_complaint'] = df_clean['complaint'].progress_apply(lemmatize_text)"
   ]
  },
  {
   "cell_type": "code",
   "execution_count": 16,
   "metadata": {},
   "outputs": [
    {
     "data": {
      "text/html": [
       "<div>\n",
       "<style scoped>\n",
       "    .dataframe tbody tr th:only-of-type {\n",
       "        vertical-align: middle;\n",
       "    }\n",
       "\n",
       "    .dataframe tbody tr th {\n",
       "        vertical-align: top;\n",
       "    }\n",
       "\n",
       "    .dataframe thead th {\n",
       "        text-align: right;\n",
       "    }\n",
       "</style>\n",
       "<table border=\"1\" class=\"dataframe\">\n",
       "  <thead>\n",
       "    <tr style=\"text-align: right;\">\n",
       "      <th></th>\n",
       "      <th>complaint</th>\n",
       "      <th>lemmatized_complaint</th>\n",
       "    </tr>\n",
       "  </thead>\n",
       "  <tbody>\n",
       "    <tr>\n",
       "      <th>1</th>\n",
       "      <td>good morning my name is xxxx xxxx and i apprec...</td>\n",
       "      <td>good morning my name be xxxx xxxx and I apprec...</td>\n",
       "    </tr>\n",
       "    <tr>\n",
       "      <th>2</th>\n",
       "      <td>i upgraded my xxxx xxxx card in xx xx 2018 and...</td>\n",
       "      <td>I upgrade my xxxx xxxx card in xx xx 2018 and ...</td>\n",
       "    </tr>\n",
       "  </tbody>\n",
       "</table>\n",
       "</div>"
      ],
      "text/plain": [
       "                                           complaint  \\\n",
       "1  good morning my name is xxxx xxxx and i apprec...   \n",
       "2  i upgraded my xxxx xxxx card in xx xx 2018 and...   \n",
       "\n",
       "                                lemmatized_complaint  \n",
       "1  good morning my name be xxxx xxxx and I apprec...  \n",
       "2  I upgrade my xxxx xxxx card in xx xx 2018 and ...  "
      ]
     },
     "execution_count": 16,
     "metadata": {},
     "output_type": "execute_result"
    }
   ],
   "source": [
    "df_clean.head(2)"
   ]
  },
  {
   "cell_type": "code",
   "execution_count": 17,
   "metadata": {},
   "outputs": [
    {
     "data": {
      "text/plain": [
       "(21072, 2)"
      ]
     },
     "execution_count": 17,
     "metadata": {},
     "output_type": "execute_result"
    }
   ],
   "source": [
    "df_clean.shape"
   ]
  },
  {
   "cell_type": "code",
   "execution_count": 18,
   "metadata": {},
   "outputs": [],
   "source": [
    "#function to extract the POS tags \n",
    "def get_pos_tag(text):\n",
    "  return pos_tag(word_tokenize(text))\n",
    "\n",
    "def get_NN(text):\n",
    "  NN = []\n",
    "  wordsWithTags = get_pos_tag(text)\n",
    "  for word, tag in wordsWithTags:\n",
    "    if (tag == 'NN'):\n",
    "      NN.append(word)\n",
    "  \n",
    "  return \" \".join(NN)"
   ]
  },
  {
   "cell_type": "code",
   "execution_count": 19,
   "metadata": {},
   "outputs": [
    {
     "name": "stderr",
     "output_type": "stream",
     "text": [
      "[nltk_data] Downloading package punkt to\n",
      "[nltk_data]     C:\\Users\\bonth\\AppData\\Roaming\\nltk_data...\n",
      "[nltk_data]   Package punkt is already up-to-date!\n",
      "[nltk_data] Downloading package averaged_perceptron_tagger to\n",
      "[nltk_data]     C:\\Users\\bonth\\AppData\\Roaming\\nltk_data...\n",
      "[nltk_data]   Package averaged_perceptron_tagger is already up-to-\n",
      "[nltk_data]       date!\n"
     ]
    },
    {
     "data": {
      "text/plain": [
       "True"
      ]
     },
     "execution_count": 19,
     "metadata": {},
     "output_type": "execute_result"
    }
   ],
   "source": [
    "#importing some neccesary nltk libraries\n",
    "from nltk import word_tokenize, pos_tag\n",
    "nltk.download('punkt')\n",
    "nltk.download('averaged_perceptron_tagger')"
   ]
  },
  {
   "cell_type": "code",
   "execution_count": 20,
   "metadata": {},
   "outputs": [
    {
     "name": "stderr",
     "output_type": "stream",
     "text": [
      "100%|██████████| 21072/21072 [05:54<00:00, 59.37it/s] \n"
     ]
    }
   ],
   "source": [
    "#this column contains lemmatized text with all the words removed which have tags other than NN[tag == \"NN\"].\n",
    "df_clean[\"complaint_POS_removed\"] = df_clean['lemmatized_complaint'].progress_apply(get_NN)"
   ]
  },
  {
   "cell_type": "code",
   "execution_count": 21,
   "metadata": {},
   "outputs": [
    {
     "data": {
      "text/html": [
       "<div>\n",
       "<style scoped>\n",
       "    .dataframe tbody tr th:only-of-type {\n",
       "        vertical-align: middle;\n",
       "    }\n",
       "\n",
       "    .dataframe tbody tr th {\n",
       "        vertical-align: top;\n",
       "    }\n",
       "\n",
       "    .dataframe thead th {\n",
       "        text-align: right;\n",
       "    }\n",
       "</style>\n",
       "<table border=\"1\" class=\"dataframe\">\n",
       "  <thead>\n",
       "    <tr style=\"text-align: right;\">\n",
       "      <th></th>\n",
       "      <th>complaint</th>\n",
       "      <th>lemmatized_complaint</th>\n",
       "      <th>complaint_POS_removed</th>\n",
       "    </tr>\n",
       "  </thead>\n",
       "  <tbody>\n",
       "    <tr>\n",
       "      <th>1</th>\n",
       "      <td>good morning my name is xxxx xxxx and i apprec...</td>\n",
       "      <td>good morning my name be xxxx xxxx and I apprec...</td>\n",
       "      <td>morning name stop bank cardmember service ask ...</td>\n",
       "    </tr>\n",
       "    <tr>\n",
       "      <th>2</th>\n",
       "      <td>i upgraded my xxxx xxxx card in xx xx 2018 and...</td>\n",
       "      <td>I upgrade my xxxx xxxx card in xx xx 2018 and ...</td>\n",
       "      <td>card xx agent upgrade date agent information o...</td>\n",
       "    </tr>\n",
       "    <tr>\n",
       "      <th>10</th>\n",
       "      <td>chase card was reported on xx xx 2019  however...</td>\n",
       "      <td>chase card be report on xx xx 2019   however  ...</td>\n",
       "      <td>card xx application identity consent service c...</td>\n",
       "    </tr>\n",
       "    <tr>\n",
       "      <th>11</th>\n",
       "      <td>on xx xx 2018  while trying to book a xxxx  xx...</td>\n",
       "      <td>on xx xx 2018   while try to book a xxxx   xxx...</td>\n",
       "      <td>try book xxxx ticket offer ticket card informa...</td>\n",
       "    </tr>\n",
       "    <tr>\n",
       "      <th>14</th>\n",
       "      <td>my grand son give me check for   1600 00  i de...</td>\n",
       "      <td>my grand son give I check for    1600 00   I d...</td>\n",
       "      <td>son chase account fund bank account pay money ...</td>\n",
       "    </tr>\n",
       "  </tbody>\n",
       "</table>\n",
       "</div>"
      ],
      "text/plain": [
       "                                            complaint  \\\n",
       "1   good morning my name is xxxx xxxx and i apprec...   \n",
       "2   i upgraded my xxxx xxxx card in xx xx 2018 and...   \n",
       "10  chase card was reported on xx xx 2019  however...   \n",
       "11  on xx xx 2018  while trying to book a xxxx  xx...   \n",
       "14  my grand son give me check for   1600 00  i de...   \n",
       "\n",
       "                                 lemmatized_complaint  \\\n",
       "1   good morning my name be xxxx xxxx and I apprec...   \n",
       "2   I upgrade my xxxx xxxx card in xx xx 2018 and ...   \n",
       "10  chase card be report on xx xx 2019   however  ...   \n",
       "11  on xx xx 2018   while try to book a xxxx   xxx...   \n",
       "14  my grand son give I check for    1600 00   I d...   \n",
       "\n",
       "                                complaint_POS_removed  \n",
       "1   morning name stop bank cardmember service ask ...  \n",
       "2   card xx agent upgrade date agent information o...  \n",
       "10  card xx application identity consent service c...  \n",
       "11  try book xxxx ticket offer ticket card informa...  \n",
       "14  son chase account fund bank account pay money ...  "
      ]
     },
     "execution_count": 21,
     "metadata": {},
     "output_type": "execute_result"
    }
   ],
   "source": [
    "#The clean dataframe contains the raw complaint, lemmatized complaint and the complaint after removing POS tags.\n",
    "df_clean.head()"
   ]
  },
  {
   "cell_type": "markdown",
   "metadata": {},
   "source": [
    "# DATA VISUALISATION"
   ]
  },
  {
   "cell_type": "markdown",
   "metadata": {
    "id": "_7Un1AElJrF2"
   },
   "source": [
    "### Exploratory data analysis to get familiar with the data.\n",
    "\n",
    "\n",
    "\n",
    "*   Visualising the data according to the 'Complaint' character length\n",
    "*   performing word cloud,finding the top 40 words by frequency among all the articles after processing the text\n",
    "*   calculating the top unigrams,bigrams and trigrams by frequency among all the complaints after processing the text. ‘\n",
    "\n",
    "\n"
   ]
  },
  {
   "cell_type": "code",
   "execution_count": 22,
   "metadata": {
    "id": "q-zaqJF6JrF2"
   },
   "outputs": [
    {
     "data": {
      "text/plain": [
       "<AxesSubplot:xlabel='complaint charecter length', ylabel='Frequency'>"
      ]
     },
     "execution_count": 22,
     "metadata": {},
     "output_type": "execute_result"
    },
    {
     "data": {
      "image/png": "[encoded data removed]",
      "text/plain": [
       "<Figure size 1080x432 with 1 Axes>"
      ]
     },
     "metadata": {
      "needs_background": "light"
     },
     "output_type": "display_data"
    }
   ],
   "source": [
    "# visualising the data according to the 'Complaint' character length\n",
    "plt.xlabel(\"complaint charecter length\")\n",
    "plt.ylabel(\"No of complaints\")\n",
    "df_clean['complaint'].str.len().plot(kind='hist', bins=50,figsize=(15,6))"
   ]
  },
  {
   "cell_type": "markdown",
   "metadata": {
    "id": "T9jD_6SeJrF3"
   },
   "source": [
    "#### Find the top 40 words by frequency among all the articles after processing the text."
   ]
  },
  {
   "cell_type": "code",
   "execution_count": 23,
   "metadata": {},
   "outputs": [
    {
     "name": "stdout",
     "output_type": "stream",
     "text": [
      "Requirement already satisfied: wordcloud in c:\\users\\bonth\\anaconda3\\lib\\site-packages (1.8.1)\n",
      "Requirement already satisfied: numpy>=1.6.1 in c:\\users\\bonth\\anaconda3\\lib\\site-packages (from wordcloud) (1.22.4)\n",
      "Requirement already satisfied: matplotlib in c:\\users\\bonth\\anaconda3\\lib\\site-packages (from wordcloud) (3.5.1)\n",
      "Requirement already satisfied: pillow in c:\\users\\bonth\\anaconda3\\lib\\site-packages (from wordcloud) (9.0.1)\n",
      "Requirement already satisfied: python-dateutil>=2.7 in c:\\users\\bonth\\anaconda3\\lib\\site-packages (from matplotlib->wordcloud) (2.8.2)\n",
      "Requirement already satisfied: kiwisolver>=1.0.1 in c:\\users\\bonth\\anaconda3\\lib\\site-packages (from matplotlib->wordcloud) (1.3.2)\n",
      "Requirement already satisfied: fonttools>=4.22.0 in c:\\users\\bonth\\anaconda3\\lib\\site-packages (from matplotlib->wordcloud) (4.25.0)\n",
      "Requirement already satisfied: packaging>=20.0 in c:\\users\\bonth\\anaconda3\\lib\\site-packages (from matplotlib->wordcloud) (21.3)\n",
      "Requirement already satisfied: pyparsing>=2.2.1 in c:\\users\\bonth\\anaconda3\\lib\\site-packages (from matplotlib->wordcloud) (3.0.4)\n",
      "Requirement already satisfied: cycler>=0.10 in c:\\users\\bonth\\anaconda3\\lib\\site-packages (from matplotlib->wordcloud) (0.11.0)\n",
      "Requirement already satisfied: six>=1.5 in c:\\users\\bonth\\anaconda3\\lib\\site-packages (from python-dateutil>=2.7->matplotlib->wordcloud) (1.16.0)\n"
     ]
    }
   ],
   "source": [
    "#installing the word cloud\n",
    "!pip install wordcloud\n",
    "from wordcloud import WordCloud"
   ]
  },
  {
   "cell_type": "code",
   "execution_count": 24,
   "metadata": {
    "id": "QcfdvtfZJrF3"
   },
   "outputs": [
    {
     "data": {
      "image/png": "[encoded data removed]",
      "text/plain": [
       "<Figure size 432x288 with 1 Axes>"
      ]
     },
     "metadata": {
      "needs_background": "light"
     },
     "output_type": "display_data"
    }
   ],
   "source": [
    "#Using a word cloud to find the top 40 words by frequency among all the articles after processing the text\n",
    "stopwords=nlp.Defaults.stop_words\n",
    "wordcloud=WordCloud(stopwords=stopwords, background_color='white', width=2000, height=1500,max_words=40).generate(' '.join(df_clean['complaint_POS_removed']))\n",
    "plt.imshow(wordcloud, interpolation='bilinear', aspect='auto')\n",
    "plt.axis(\"off\")\n",
    "plt.show()"
   ]
  },
  {
   "cell_type": "code",
   "execution_count": 25,
   "metadata": {
    "id": "OkSmc3UaJrF4"
   },
   "outputs": [],
   "source": [
    "#Removing -PRON- from the text corpus\n",
    "df_clean['Complaint_clean'] = df_clean['complaint_POS_removed'].str.replace('-PRON-', '')"
   ]
  },
  {
   "cell_type": "code",
   "execution_count": 26,
   "metadata": {},
   "outputs": [
    {
     "data": {
      "text/plain": [
       "(21072, 4)"
      ]
     },
     "execution_count": 26,
     "metadata": {},
     "output_type": "execute_result"
    }
   ],
   "source": [
    "#checking the shape\n",
    "df_clean.shape"
   ]
  },
  {
   "cell_type": "markdown",
   "metadata": {
    "id": "5DfCSbbmJrF4"
   },
   "source": [
    "#### Find the top unigrams,bigrams and trigrams by frequency among all the complaints after processing the text."
   ]
  },
  {
   "cell_type": "code",
   "execution_count": 27,
   "metadata": {
    "id": "5mbk5DS5JrF4"
   },
   "outputs": [],
   "source": [
    "#finding the top 30 unigram frequency among the complaints in the cleaned datafram(df_clean). \n",
    "def get_top_unigram(text, n=30):\n",
    "    vector = CountVectorizer(stop_words='english').fit(text)\n",
    "    bag_of_words = vector.transform(text)\n",
    "    sum_of_words = bag_of_words.sum(axis=0) \n",
    "    word_freq = [(word, sum_of_words[0, idx]) for word, idx in vector.vocabulary_.items()]\n",
    "    word_freq =sorted(word_freq, key = lambda x: x[1], reverse=True)\n",
    "    return word_freq[:n]"
   ]
  },
  {
   "cell_type": "code",
   "execution_count": 28,
   "metadata": {
    "id": "YX7fedm1JrF8"
   },
   "outputs": [
    {
     "data": {
      "text/html": [
       "<div>\n",
       "<style scoped>\n",
       "    .dataframe tbody tr th:only-of-type {\n",
       "        vertical-align: middle;\n",
       "    }\n",
       "\n",
       "    .dataframe tbody tr th {\n",
       "        vertical-align: top;\n",
       "    }\n",
       "\n",
       "    .dataframe thead th {\n",
       "        text-align: right;\n",
       "    }\n",
       "</style>\n",
       "<table border=\"1\" class=\"dataframe\">\n",
       "  <thead>\n",
       "    <tr style=\"text-align: right;\">\n",
       "      <th></th>\n",
       "      <th>unigram</th>\n",
       "      <th>frequency</th>\n",
       "    </tr>\n",
       "  </thead>\n",
       "  <tbody>\n",
       "    <tr>\n",
       "      <th>0</th>\n",
       "      <td>chase</td>\n",
       "      <td>47759</td>\n",
       "    </tr>\n",
       "    <tr>\n",
       "      <th>1</th>\n",
       "      <td>account</td>\n",
       "      <td>47666</td>\n",
       "    </tr>\n",
       "    <tr>\n",
       "      <th>2</th>\n",
       "      <td>xxxx</td>\n",
       "      <td>41161</td>\n",
       "    </tr>\n",
       "    <tr>\n",
       "      <th>3</th>\n",
       "      <td>credit</td>\n",
       "      <td>34311</td>\n",
       "    </tr>\n",
       "    <tr>\n",
       "      <th>4</th>\n",
       "      <td>card</td>\n",
       "      <td>29375</td>\n",
       "    </tr>\n",
       "    <tr>\n",
       "      <th>5</th>\n",
       "      <td>bank</td>\n",
       "      <td>28530</td>\n",
       "    </tr>\n",
       "    <tr>\n",
       "      <th>6</th>\n",
       "      <td>payment</td>\n",
       "      <td>21366</td>\n",
       "    </tr>\n",
       "    <tr>\n",
       "      <th>7</th>\n",
       "      <td>time</td>\n",
       "      <td>16281</td>\n",
       "    </tr>\n",
       "    <tr>\n",
       "      <th>8</th>\n",
       "      <td>charge</td>\n",
       "      <td>15142</td>\n",
       "    </tr>\n",
       "    <tr>\n",
       "      <th>9</th>\n",
       "      <td>day</td>\n",
       "      <td>13277</td>\n",
       "    </tr>\n",
       "  </tbody>\n",
       "</table>\n",
       "</div>"
      ],
      "text/plain": [
       "   unigram  frequency\n",
       "0    chase      47759\n",
       "1  account      47666\n",
       "2     xxxx      41161\n",
       "3   credit      34311\n",
       "4     card      29375\n",
       "5     bank      28530\n",
       "6  payment      21366\n",
       "7     time      16281\n",
       "8   charge      15142\n",
       "9      day      13277"
      ]
     },
     "execution_count": 28,
     "metadata": {},
     "output_type": "execute_result"
    }
   ],
   "source": [
    "#Printing the top 10 words in the unigram frequency\n",
    "top_common_words = get_top_unigram(df_clean['complaint_POS_removed'].values.astype('U'))\n",
    "df_unigram = pd.DataFrame(top_common_words, columns = ['unigram' , 'frequency'])\n",
    "df_unigram.head(10)"
   ]
  },
  {
   "cell_type": "code",
   "execution_count": 29,
   "metadata": {
    "id": "aV7kD7w8JrF8"
   },
   "outputs": [],
   "source": [
    "#finding the top 30 bigram frequency among the complaints in the cleaned datafram(df_clean). \n",
    "def get_top_bigram(text, n=30):\n",
    "    vector = CountVectorizer(ngram_range=(2, 2), stop_words='english').fit(text)\n",
    "    bag_of_words = vector.transform(text)\n",
    "    sum_of_words = bag_of_words.sum(axis=0) \n",
    "    word_freq = [(word, sum_of_words[0, idx]) for word, idx in vector.vocabulary_.items()]\n",
    "    word_freq =sorted(word_freq, key = lambda x: x[1], reverse=True)\n",
    "    return word_freq[:n]"
   ]
  },
  {
   "cell_type": "code",
   "execution_count": 30,
   "metadata": {
    "id": "NPnMNIpyJrF9"
   },
   "outputs": [
    {
     "data": {
      "text/html": [
       "<div>\n",
       "<style scoped>\n",
       "    .dataframe tbody tr th:only-of-type {\n",
       "        vertical-align: middle;\n",
       "    }\n",
       "\n",
       "    .dataframe tbody tr th {\n",
       "        vertical-align: top;\n",
       "    }\n",
       "\n",
       "    .dataframe thead th {\n",
       "        text-align: right;\n",
       "    }\n",
       "</style>\n",
       "<table border=\"1\" class=\"dataframe\">\n",
       "  <thead>\n",
       "    <tr style=\"text-align: right;\">\n",
       "      <th></th>\n",
       "      <th>bigram</th>\n",
       "      <th>frequency</th>\n",
       "    </tr>\n",
       "  </thead>\n",
       "  <tbody>\n",
       "    <tr>\n",
       "      <th>0</th>\n",
       "      <td>credit card</td>\n",
       "      <td>12826</td>\n",
       "    </tr>\n",
       "    <tr>\n",
       "      <th>1</th>\n",
       "      <td>xxxx xxxx</td>\n",
       "      <td>5063</td>\n",
       "    </tr>\n",
       "    <tr>\n",
       "      <th>2</th>\n",
       "      <td>credit report</td>\n",
       "      <td>3963</td>\n",
       "    </tr>\n",
       "    <tr>\n",
       "      <th>3</th>\n",
       "      <td>customer service</td>\n",
       "      <td>3089</td>\n",
       "    </tr>\n",
       "    <tr>\n",
       "      <th>4</th>\n",
       "      <td>chase bank</td>\n",
       "      <td>3042</td>\n",
       "    </tr>\n",
       "    <tr>\n",
       "      <th>5</th>\n",
       "      <td>chase credit</td>\n",
       "      <td>3027</td>\n",
       "    </tr>\n",
       "    <tr>\n",
       "      <th>6</th>\n",
       "      <td>bank account</td>\n",
       "      <td>2713</td>\n",
       "    </tr>\n",
       "    <tr>\n",
       "      <th>7</th>\n",
       "      <td>account chase</td>\n",
       "      <td>2660</td>\n",
       "    </tr>\n",
       "    <tr>\n",
       "      <th>8</th>\n",
       "      <td>chase account</td>\n",
       "      <td>2637</td>\n",
       "    </tr>\n",
       "    <tr>\n",
       "      <th>9</th>\n",
       "      <td>check account</td>\n",
       "      <td>2580</td>\n",
       "    </tr>\n",
       "  </tbody>\n",
       "</table>\n",
       "</div>"
      ],
      "text/plain": [
       "             bigram  frequency\n",
       "0       credit card      12826\n",
       "1         xxxx xxxx       5063\n",
       "2     credit report       3963\n",
       "3  customer service       3089\n",
       "4        chase bank       3042\n",
       "5      chase credit       3027\n",
       "6      bank account       2713\n",
       "7     account chase       2660\n",
       "8     chase account       2637\n",
       "9     check account       2580"
      ]
     },
     "execution_count": 30,
     "metadata": {},
     "output_type": "execute_result"
    }
   ],
   "source": [
    "#Printing the top 10 words in the bigram frequency\n",
    "top_common_words = get_top_bigram(df_clean['complaint_POS_removed'].values.astype('U'))\n",
    "df_bigram = pd.DataFrame(top_common_words, columns = ['bigram' , 'frequency'])\n",
    "df_bigram.head(10)"
   ]
  },
  {
   "cell_type": "code",
   "execution_count": 31,
   "metadata": {
    "id": "Xkh7vtbtJrF-"
   },
   "outputs": [],
   "source": [
    "#finding the top 30 trigram frequency among the complaints in the cleaned datafram(df_clean). \n",
    "def get_top_trigram(text, n=30):\n",
    "    vector = CountVectorizer(ngram_range=(3, 3), stop_words='english').fit(text)\n",
    "    bag_of_words = vector.transform(text)\n",
    "    sum_of_words = bag_of_words.sum(axis=0) \n",
    "    word_freq = [(word, sum_of_words[0, idx]) for word, idx in vector.vocabulary_.items()]\n",
    "    word_freq =sorted(word_freq, key = lambda x: x[1], reverse=True)\n",
    "    return word_freq[:n]"
   ]
  },
  {
   "cell_type": "code",
   "execution_count": 32,
   "metadata": {
    "id": "REcVxNfvJrF-"
   },
   "outputs": [
    {
     "data": {
      "text/html": [
       "<div>\n",
       "<style scoped>\n",
       "    .dataframe tbody tr th:only-of-type {\n",
       "        vertical-align: middle;\n",
       "    }\n",
       "\n",
       "    .dataframe tbody tr th {\n",
       "        vertical-align: top;\n",
       "    }\n",
       "\n",
       "    .dataframe thead th {\n",
       "        text-align: right;\n",
       "    }\n",
       "</style>\n",
       "<table border=\"1\" class=\"dataframe\">\n",
       "  <thead>\n",
       "    <tr style=\"text-align: right;\">\n",
       "      <th></th>\n",
       "      <th>trigram</th>\n",
       "      <th>frequency</th>\n",
       "    </tr>\n",
       "  </thead>\n",
       "  <tbody>\n",
       "    <tr>\n",
       "      <th>0</th>\n",
       "      <td>chase credit card</td>\n",
       "      <td>2116</td>\n",
       "    </tr>\n",
       "    <tr>\n",
       "      <th>1</th>\n",
       "      <td>credit card account</td>\n",
       "      <td>1023</td>\n",
       "    </tr>\n",
       "    <tr>\n",
       "      <th>2</th>\n",
       "      <td>credit card company</td>\n",
       "      <td>996</td>\n",
       "    </tr>\n",
       "    <tr>\n",
       "      <th>3</th>\n",
       "      <td>xxxx xxxx xxxx</td>\n",
       "      <td>766</td>\n",
       "    </tr>\n",
       "    <tr>\n",
       "      <th>4</th>\n",
       "      <td>credit card chase</td>\n",
       "      <td>658</td>\n",
       "    </tr>\n",
       "    <tr>\n",
       "      <th>5</th>\n",
       "      <td>credit card credit</td>\n",
       "      <td>514</td>\n",
       "    </tr>\n",
       "    <tr>\n",
       "      <th>6</th>\n",
       "      <td>inquiry credit report</td>\n",
       "      <td>480</td>\n",
       "    </tr>\n",
       "    <tr>\n",
       "      <th>7</th>\n",
       "      <td>charge credit card</td>\n",
       "      <td>419</td>\n",
       "    </tr>\n",
       "    <tr>\n",
       "      <th>8</th>\n",
       "      <td>account credit card</td>\n",
       "      <td>398</td>\n",
       "    </tr>\n",
       "    <tr>\n",
       "      <th>9</th>\n",
       "      <td>credit reporting agency</td>\n",
       "      <td>390</td>\n",
       "    </tr>\n",
       "  </tbody>\n",
       "</table>\n",
       "</div>"
      ],
      "text/plain": [
       "                   trigram  frequency\n",
       "0        chase credit card       2116\n",
       "1      credit card account       1023\n",
       "2      credit card company        996\n",
       "3           xxxx xxxx xxxx        766\n",
       "4        credit card chase        658\n",
       "5       credit card credit        514\n",
       "6    inquiry credit report        480\n",
       "7       charge credit card        419\n",
       "8      account credit card        398\n",
       "9  credit reporting agency        390"
      ]
     },
     "execution_count": 32,
     "metadata": {},
     "output_type": "execute_result"
    }
   ],
   "source": [
    "#Printing the top 10 words in the trigram frequency\n",
    "top_common_words = get_top_trigram(df_clean['complaint_POS_removed'].values.astype('U'))\n",
    "df_trigram = pd.DataFrame(top_common_words, columns = ['trigram' , 'frequency'])\n",
    "df_trigram.head(10)"
   ]
  },
  {
   "cell_type": "markdown",
   "metadata": {
    "id": "yUXzFji0JrF_"
   },
   "source": [
    "The personal details of customer has been masked in the dataset with xxxx. Let's remove the masked text as this will be of no use for our analysis"
   ]
  },
  {
   "cell_type": "code",
   "execution_count": 33,
   "metadata": {
    "id": "wKda-a_IJrF_"
   },
   "outputs": [],
   "source": [
    "#All masked texts has been removed\n",
    "df_clean['Complaint_clean'] = df_clean['Complaint_clean'].str.replace('xxxx','')"
   ]
  },
  {
   "cell_type": "code",
   "execution_count": 34,
   "metadata": {
    "id": "9UIFk8fQJrF_"
   },
   "outputs": [
    {
     "data": {
      "text/html": [
       "<div>\n",
       "<style scoped>\n",
       "    .dataframe tbody tr th:only-of-type {\n",
       "        vertical-align: middle;\n",
       "    }\n",
       "\n",
       "    .dataframe tbody tr th {\n",
       "        vertical-align: top;\n",
       "    }\n",
       "\n",
       "    .dataframe thead th {\n",
       "        text-align: right;\n",
       "    }\n",
       "</style>\n",
       "<table border=\"1\" class=\"dataframe\">\n",
       "  <thead>\n",
       "    <tr style=\"text-align: right;\">\n",
       "      <th></th>\n",
       "      <th>complaint</th>\n",
       "      <th>lemmatized_complaint</th>\n",
       "      <th>complaint_POS_removed</th>\n",
       "      <th>Complaint_clean</th>\n",
       "    </tr>\n",
       "  </thead>\n",
       "  <tbody>\n",
       "    <tr>\n",
       "      <th>1</th>\n",
       "      <td>good morning my name is xxxx xxxx and i apprec...</td>\n",
       "      <td>good morning my name be xxxx xxxx and I apprec...</td>\n",
       "      <td>morning name stop bank cardmember service ask ...</td>\n",
       "      <td>morning name stop bank cardmember service ask ...</td>\n",
       "    </tr>\n",
       "    <tr>\n",
       "      <th>2</th>\n",
       "      <td>i upgraded my xxxx xxxx card in xx xx 2018 and...</td>\n",
       "      <td>I upgrade my xxxx xxxx card in xx xx 2018 and ...</td>\n",
       "      <td>card xx agent upgrade date agent information o...</td>\n",
       "      <td>card xx agent upgrade date agent information o...</td>\n",
       "    </tr>\n",
       "  </tbody>\n",
       "</table>\n",
       "</div>"
      ],
      "text/plain": [
       "                                           complaint  \\\n",
       "1  good morning my name is xxxx xxxx and i apprec...   \n",
       "2  i upgraded my xxxx xxxx card in xx xx 2018 and...   \n",
       "\n",
       "                                lemmatized_complaint  \\\n",
       "1  good morning my name be xxxx xxxx and I apprec...   \n",
       "2  I upgrade my xxxx xxxx card in xx xx 2018 and ...   \n",
       "\n",
       "                               complaint_POS_removed  \\\n",
       "1  morning name stop bank cardmember service ask ...   \n",
       "2  card xx agent upgrade date agent information o...   \n",
       "\n",
       "                                     Complaint_clean  \n",
       "1  morning name stop bank cardmember service ask ...  \n",
       "2  card xx agent upgrade date agent information o...  "
      ]
     },
     "execution_count": 34,
     "metadata": {},
     "output_type": "execute_result"
    }
   ],
   "source": [
    "df_clean.head(2)"
   ]
  },
  {
   "cell_type": "code",
   "execution_count": 35,
   "metadata": {},
   "outputs": [],
   "source": [
    "#storing a copy in df_cleaner\n",
    "df_cleaner=df_clean.copy()"
   ]
  },
  {
   "cell_type": "markdown",
   "metadata": {},
   "source": [
    "# FEATURE EXTRACTION"
   ]
  },
  {
   "cell_type": "markdown",
   "metadata": {
    "id": "k-I0k0QtJrGA"
   },
   "source": [
    "\n",
    "Convert the raw texts to a matrix of TF-IDF features\n",
    "\n",
    "**max_df** is used for removing terms that appear too frequently, also known as \"corpus-specific stop words\"\n",
    "max_df = 0.95 means \"ignore terms that appear in more than 95% of the complaints\"\n",
    "\n",
    "**min_df** is used for removing terms that appear too infrequently\n",
    "min_df = 2 means \"ignore terms that appear in less than 2 complaints\""
   ]
  },
  {
   "cell_type": "code",
   "execution_count": 36,
   "metadata": {
    "id": "Y8fGwaCPJrGA"
   },
   "outputs": [],
   "source": [
    "#initialising the TfidfVectorizer \n",
    "tf_idf_vec=TfidfVectorizer(max_df=0.95,min_df=2,stop_words='english')"
   ]
  },
  {
   "cell_type": "markdown",
   "metadata": {
    "id": "yYzD85nTJrGA"
   },
   "source": [
    "#### Creating a document term matrix using fit_transform\n",
    "\n",
    "The contents of a document term matrix are tuples of (complaint_id,token_id) tf-idf score:\n",
    "The tuples that are not there have a tf-idf score of 0"
   ]
  },
  {
   "cell_type": "code",
   "execution_count": 37,
   "metadata": {
    "id": "ffzdDpp_JrGB"
   },
   "outputs": [],
   "source": [
    "# creating the Document Term Matrix by transforming the complaints column present in df_clean.\n",
    "dtm=tf_idf_vec.fit_transform(df_clean['complaint_POS_removed'])"
   ]
  },
  {
   "cell_type": "markdown",
   "metadata": {},
   "source": [
    "# TOPIC MODELLING"
   ]
  },
  {
   "cell_type": "markdown",
   "metadata": {
    "id": "7Q9lwvNEJrGB"
   },
   "source": [
    " \n",
    "\n",
    "Non-Negative Matrix Factorization (NMF) is an unsupervised technique so there are no labeling of topics that the model will be trained on. The way it works is that, NMF decomposes (or factorizes) high-dimensional vectors into a lower-dimensional representation. These lower-dimensional vectors are non-negative which also means their coefficients are non-negative.\n",
    "\n",
    "In this we performed the following:\n",
    "\n",
    "* setting the best number of clusters to \"5\". \n",
    "* Applying the best number to create word clusters.\n",
    "* validated the correction of each cluster wrt the complaints. \n",
    "* Corrected the labels.\n",
    "* Mapped the clusters to topics/cluster names"
   ]
  },
  {
   "cell_type": "code",
   "execution_count": 38,
   "metadata": {
    "id": "amLT4omWJrGB"
   },
   "outputs": [],
   "source": [
    "from sklearn.decomposition import NMF"
   ]
  },
  {
   "cell_type": "markdown",
   "metadata": {
    "id": "0wYR1xUTJrGD"
   },
   "source": [
    "### Manual Topic Modeling\n",
    "You need to do take the trial & error approach to find the best num of topics for your NMF model.\n",
    "\n",
    "The only parameter that is required is the number of components i.e. the number of topics we want. This is the most crucial step in the whole topic modeling process and will greatly affect how good your final topics are."
   ]
  },
  {
   "cell_type": "code",
   "execution_count": 39,
   "metadata": {
    "id": "sgd2A6bhJrGD"
   },
   "outputs": [],
   "source": [
    "#Load your nmf_model with the n_components i.e 5\n",
    "num_topics = 5\n",
    "\n",
    "#keep the random_state =40\n",
    "nmf_model =NMF(n_components=num_topics,random_state=40)"
   ]
  },
  {
   "cell_type": "code",
   "execution_count": 40,
   "metadata": {
    "id": "VPMDYbt_JrGE"
   },
   "outputs": [
    {
     "data": {
      "text/plain": [
       "6942"
      ]
     },
     "execution_count": 40,
     "metadata": {},
     "output_type": "execute_result"
    }
   ],
   "source": [
    "nmf_model.fit(dtm)\n",
    "len(tf_idf_vec.get_feature_names_out())"
   ]
  },
  {
   "cell_type": "code",
   "execution_count": 41,
   "metadata": {
    "id": "16kRfat5JrGE"
   },
   "outputs": [
    {
     "name": "stdout",
     "output_type": "stream",
     "text": [
      "THE TOP 15 WORDS FOR TOPIC #0 with tf-idf score\n",
      "['transfer', 'xx', 'transaction', 'business', 'number', 'day', 'branch', 'xxxx', 'deposit', 'chase', 'fund', 'money', 'bank', 'check', 'account']\n",
      "\n",
      "\n",
      "THE TOP 15 WORDS FOR TOPIC #1 with tf-idf score\n",
      "['letter', 'year', 'balance', 'application', 'debt', 'information', 'limit', 'company', 'score', 'account', 'chase', 'inquiry', 'report', 'card', 'credit']\n",
      "\n",
      "\n",
      "THE TOP 15 WORDS FOR TOPIC #2 with tf-idf score\n",
      "['foreclosure', 'house', 'bank', 'document', 'time', 'rate', 'letter', 'year', 'property', 'chase', 'modification', 'home', 'xxxx', 'mortgage', 'loan']\n",
      "\n",
      "\n",
      "THE TOP 15 WORDS FOR TOPIC #3 with tf-idf score\n",
      "['time', 'refund', 'xx', 'service', 'purchase', 'fraud', 'claim', 'merchant', 'fee', 'chase', 'transaction', 'dispute', 'xxxx', 'card', 'charge']\n",
      "\n",
      "\n",
      "THE TOP 15 WORDS FOR TOPIC #4 with tf-idf score\n",
      "['account', 'xx', 'chase', 'credit', 'date', 'pay', 'xxxx', 'time', 'day', 'auto', 'statement', 'fee', 'month', 'balance', 'payment']\n",
      "\n",
      "\n"
     ]
    }
   ],
   "source": [
    "#Print the Top15 words for each of the topics\n",
    "for index, topic in enumerate(nmf_model.components_):\n",
    "    print(f'THE TOP 15 WORDS FOR TOPIC #{index} with tf-idf score')\n",
    "    print([tf_idf_vec.get_feature_names_out()[i] for i in topic.argsort()[-15:]])\n",
    "    print('\\n')"
   ]
  },
  {
   "cell_type": "code",
   "execution_count": 42,
   "metadata": {
    "id": "0OIT7LmFJrGF"
   },
   "outputs": [
    {
     "data": {
      "text/plain": [
       "array([0, 3, 1, ..., 3, 4, 4], dtype=int64)"
      ]
     },
     "execution_count": 42,
     "metadata": {},
     "output_type": "execute_result"
    }
   ],
   "source": [
    "#Create the best topic for each complaint in terms of integer value 0,1,2,3 & 4\n",
    "topic_result = nmf_model.transform(dtm)\n",
    "topic_result.argmax(axis=1)\n"
   ]
  },
  {
   "cell_type": "code",
   "execution_count": 43,
   "metadata": {
    "id": "peyYv-ORJrGF"
   },
   "outputs": [],
   "source": [
    "#Assigning the best topic to each of the cmplaints in Topic Column\n",
    "df_clean['Topic'] = topic_result.argmax(axis=1)"
   ]
  },
  {
   "cell_type": "code",
   "execution_count": 44,
   "metadata": {},
   "outputs": [
    {
     "data": {
      "text/plain": [
       "(21072, 5)"
      ]
     },
     "execution_count": 44,
     "metadata": {},
     "output_type": "execute_result"
    }
   ],
   "source": [
    "df_clean.shape"
   ]
  },
  {
   "cell_type": "code",
   "execution_count": 45,
   "metadata": {
    "id": "fLh_Gf3nJrGF"
   },
   "outputs": [
    {
     "data": {
      "text/html": [
       "<div>\n",
       "<style scoped>\n",
       "    .dataframe tbody tr th:only-of-type {\n",
       "        vertical-align: middle;\n",
       "    }\n",
       "\n",
       "    .dataframe tbody tr th {\n",
       "        vertical-align: top;\n",
       "    }\n",
       "\n",
       "    .dataframe thead th {\n",
       "        text-align: right;\n",
       "    }\n",
       "</style>\n",
       "<table border=\"1\" class=\"dataframe\">\n",
       "  <thead>\n",
       "    <tr style=\"text-align: right;\">\n",
       "      <th></th>\n",
       "      <th>complaint</th>\n",
       "      <th>lemmatized_complaint</th>\n",
       "      <th>complaint_POS_removed</th>\n",
       "      <th>Complaint_clean</th>\n",
       "      <th>Topic</th>\n",
       "    </tr>\n",
       "  </thead>\n",
       "  <tbody>\n",
       "    <tr>\n",
       "      <th>1</th>\n",
       "      <td>good morning my name is xxxx xxxx and i apprec...</td>\n",
       "      <td>good morning my name be xxxx xxxx and I apprec...</td>\n",
       "      <td>morning name stop bank cardmember service ask ...</td>\n",
       "      <td>morning name stop bank cardmember service ask ...</td>\n",
       "      <td>0</td>\n",
       "    </tr>\n",
       "    <tr>\n",
       "      <th>2</th>\n",
       "      <td>i upgraded my xxxx xxxx card in xx xx 2018 and...</td>\n",
       "      <td>I upgrade my xxxx xxxx card in xx xx 2018 and ...</td>\n",
       "      <td>card xx agent upgrade date agent information o...</td>\n",
       "      <td>card xx agent upgrade date agent information o...</td>\n",
       "      <td>3</td>\n",
       "    </tr>\n",
       "  </tbody>\n",
       "</table>\n",
       "</div>"
      ],
      "text/plain": [
       "                                           complaint  \\\n",
       "1  good morning my name is xxxx xxxx and i apprec...   \n",
       "2  i upgraded my xxxx xxxx card in xx xx 2018 and...   \n",
       "\n",
       "                                lemmatized_complaint  \\\n",
       "1  good morning my name be xxxx xxxx and I apprec...   \n",
       "2  I upgrade my xxxx xxxx card in xx xx 2018 and ...   \n",
       "\n",
       "                               complaint_POS_removed  \\\n",
       "1  morning name stop bank cardmember service ask ...   \n",
       "2  card xx agent upgrade date agent information o...   \n",
       "\n",
       "                                     Complaint_clean  Topic  \n",
       "1  morning name stop bank cardmember service ask ...      0  \n",
       "2  card xx agent upgrade date agent information o...      3  "
      ]
     },
     "execution_count": 45,
     "metadata": {},
     "output_type": "execute_result"
    }
   ],
   "source": [
    "df_clean.head(2)"
   ]
  },
  {
   "cell_type": "code",
   "execution_count": 46,
   "metadata": {
    "id": "aQKpufSPJrGG"
   },
   "outputs": [
    {
     "data": {
      "text/html": [
       "<div>\n",
       "<style scoped>\n",
       "    .dataframe tbody tr th:only-of-type {\n",
       "        vertical-align: middle;\n",
       "    }\n",
       "\n",
       "    .dataframe tbody tr th {\n",
       "        vertical-align: top;\n",
       "    }\n",
       "\n",
       "    .dataframe thead th {\n",
       "        text-align: right;\n",
       "    }\n",
       "</style>\n",
       "<table border=\"1\" class=\"dataframe\">\n",
       "  <thead>\n",
       "    <tr style=\"text-align: right;\">\n",
       "      <th></th>\n",
       "      <th>complaint</th>\n",
       "      <th>lemmatized_complaint</th>\n",
       "      <th>complaint_POS_removed</th>\n",
       "      <th>Complaint_clean</th>\n",
       "      <th>Topic</th>\n",
       "    </tr>\n",
       "  </thead>\n",
       "  <tbody>\n",
       "    <tr>\n",
       "      <th>1</th>\n",
       "      <td>good morning my name is xxxx xxxx and i apprec...</td>\n",
       "      <td>good morning my name be xxxx xxxx and I apprec...</td>\n",
       "      <td>morning name stop bank cardmember service ask ...</td>\n",
       "      <td>morning name stop bank cardmember service ask ...</td>\n",
       "      <td>0</td>\n",
       "    </tr>\n",
       "    <tr>\n",
       "      <th>24</th>\n",
       "      <td>mishandling of this account by chase auto and ...</td>\n",
       "      <td>mishandle of this account by chase auto and xxxx</td>\n",
       "      <td>mishandle account auto xxxx</td>\n",
       "      <td>mishandle account auto</td>\n",
       "      <td>0</td>\n",
       "    </tr>\n",
       "    <tr>\n",
       "      <th>17</th>\n",
       "      <td>with out notice j p  morgan chase restricted m...</td>\n",
       "      <td>with out notice j p   morgan chase restrict my...</td>\n",
       "      <td>j p chase account debit card tuesday xx branch...</td>\n",
       "      <td>j p chase account debit card tuesday xx branch...</td>\n",
       "      <td>0</td>\n",
       "    </tr>\n",
       "    <tr>\n",
       "      <th>14</th>\n",
       "      <td>my grand son give me check for   1600 00  i de...</td>\n",
       "      <td>my grand son give I check for    1600 00   I d...</td>\n",
       "      <td>son chase account fund bank account pay money ...</td>\n",
       "      <td>son chase account fund bank account pay money ...</td>\n",
       "      <td>0</td>\n",
       "    </tr>\n",
       "    <tr>\n",
       "      <th>27</th>\n",
       "      <td>i opened an account with chase bank on xxxx an...</td>\n",
       "      <td>I open an account with chase bank on xxxx and ...</td>\n",
       "      <td>account bank code bonus term everything accoun...</td>\n",
       "      <td>account bank code bonus term everything accoun...</td>\n",
       "      <td>0</td>\n",
       "    </tr>\n",
       "    <tr>\n",
       "      <th>15</th>\n",
       "      <td>can you please remove inquiry</td>\n",
       "      <td>can you please remove inquiry</td>\n",
       "      <td>inquiry</td>\n",
       "      <td>inquiry</td>\n",
       "      <td>1</td>\n",
       "    </tr>\n",
       "    <tr>\n",
       "      <th>10</th>\n",
       "      <td>chase card was reported on xx xx 2019  however...</td>\n",
       "      <td>chase card be report on xx xx 2019   however  ...</td>\n",
       "      <td>card xx application identity consent service c...</td>\n",
       "      <td>card xx application identity consent service c...</td>\n",
       "      <td>1</td>\n",
       "    </tr>\n",
       "    <tr>\n",
       "      <th>23</th>\n",
       "      <td>i have a chase credit card which is incorrectl...</td>\n",
       "      <td>I have a chase credit card which be incorrectl...</td>\n",
       "      <td>chase credit card datum credit report company ...</td>\n",
       "      <td>chase credit card datum credit report company ...</td>\n",
       "      <td>1</td>\n",
       "    </tr>\n",
       "    <tr>\n",
       "      <th>26</th>\n",
       "      <td>i have reached out to xxxx several times in at...</td>\n",
       "      <td>I have reach out to xxxx several time in attem...</td>\n",
       "      <td>time attempt inquiry creditor place inquiry re...</td>\n",
       "      <td>time attempt inquiry creditor place inquiry re...</td>\n",
       "      <td>1</td>\n",
       "    </tr>\n",
       "    <tr>\n",
       "      <th>11</th>\n",
       "      <td>on xx xx 2018  while trying to book a xxxx  xx...</td>\n",
       "      <td>on xx xx 2018   while try to book a xxxx   xxx...</td>\n",
       "      <td>try book xxxx ticket offer ticket card informa...</td>\n",
       "      <td>try book  ticket offer ticket card information...</td>\n",
       "      <td>1</td>\n",
       "    </tr>\n",
       "    <tr>\n",
       "      <th>127</th>\n",
       "      <td>i am xxxx military member   xxxx   with the xx...</td>\n",
       "      <td>I be xxxx military member    xxxx    with the ...</td>\n",
       "      <td>member xxxx auto finance gap insurance waiver ...</td>\n",
       "      <td>member  auto finance gap insurance waiver cove...</td>\n",
       "      <td>2</td>\n",
       "    </tr>\n",
       "    <tr>\n",
       "      <th>99</th>\n",
       "      <td>my name is xxxx xxxx  i have missed a payment ...</td>\n",
       "      <td>my name be xxxx xxxx   I have miss a payment i...</td>\n",
       "      <td>name xxxx payment xx day time loan modificatio...</td>\n",
       "      <td>name  payment xx day time loan modification lo...</td>\n",
       "      <td>2</td>\n",
       "    </tr>\n",
       "    <tr>\n",
       "      <th>81</th>\n",
       "      <td>i bought a new xxxx xxxx on xx xx xxxx from xx...</td>\n",
       "      <td>I buy a new xxxx xxxx on xx xx xxxx from xxxx ...</td>\n",
       "      <td>xxxx xxxx loan title time resolution time noth...</td>\n",
       "      <td>loan title time resolution time nothing stat...</td>\n",
       "      <td>2</td>\n",
       "    </tr>\n",
       "    <tr>\n",
       "      <th>73</th>\n",
       "      <td>i have wired through one of chase branches in ...</td>\n",
       "      <td>I have wire through one of chase branch in xxx...</td>\n",
       "      <td>chase branch reinstatement amount bank order f...</td>\n",
       "      <td>chase branch reinstatement amount bank order f...</td>\n",
       "      <td>2</td>\n",
       "    </tr>\n",
       "    <tr>\n",
       "      <th>57</th>\n",
       "      <td>i have been trying to do a loan modification w...</td>\n",
       "      <td>I have be try to do a loan modification with c...</td>\n",
       "      <td>loan modification chase runaround payment doc</td>\n",
       "      <td>loan modification chase runaround payment doc</td>\n",
       "      <td>2</td>\n",
       "    </tr>\n",
       "    <tr>\n",
       "      <th>32</th>\n",
       "      <td>my chase amazon card was declined for a cateri...</td>\n",
       "      <td>my chase amazon card be decline for a catering...</td>\n",
       "      <td>chase card decline catering order place brothe...</td>\n",
       "      <td>chase card decline catering order place brothe...</td>\n",
       "      <td>3</td>\n",
       "    </tr>\n",
       "    <tr>\n",
       "      <th>30</th>\n",
       "      <td>to whom it may concern  chase bank charged wro...</td>\n",
       "      <td>to whom it may concern   chase bank charge wro...</td>\n",
       "      <td>concern bank charge fee balance fee balance tr...</td>\n",
       "      <td>concern bank charge fee balance fee balance tr...</td>\n",
       "      <td>3</td>\n",
       "    </tr>\n",
       "    <tr>\n",
       "      <th>2</th>\n",
       "      <td>i upgraded my xxxx xxxx card in xx xx 2018 and...</td>\n",
       "      <td>I upgrade my xxxx xxxx card in xx xx 2018 and ...</td>\n",
       "      <td>card xx agent upgrade date agent information o...</td>\n",
       "      <td>card xx agent upgrade date agent information o...</td>\n",
       "      <td>3</td>\n",
       "    </tr>\n",
       "    <tr>\n",
       "      <th>21</th>\n",
       "      <td>on xxxx xx xx 2019  i made a   300 00  payment...</td>\n",
       "      <td>on xxxx xx xx 2019   I make a    300 00   paym...</td>\n",
       "      <td>payment online retailer use pay xxxx chase web...</td>\n",
       "      <td>payment online retailer use pay  chase website...</td>\n",
       "      <td>3</td>\n",
       "    </tr>\n",
       "    <tr>\n",
       "      <th>40</th>\n",
       "      <td>xxxx xxxx a sofa  love seat  table and chairs ...</td>\n",
       "      <td>xxxx xxxx a sofa   love seat   table and chair...</td>\n",
       "      <td>xxxx love seat table chair charge bank claim f...</td>\n",
       "      <td>love seat table chair charge bank claim furni...</td>\n",
       "      <td>3</td>\n",
       "    </tr>\n",
       "    <tr>\n",
       "      <th>58</th>\n",
       "      <td>i made a purchase of   260 00  on xx xx xxxx  ...</td>\n",
       "      <td>I make a purchase of    260 00   on xx xx xxxx...</td>\n",
       "      <td>purchase payment payment closing date please s...</td>\n",
       "      <td>purchase payment payment closing date please s...</td>\n",
       "      <td>4</td>\n",
       "    </tr>\n",
       "    <tr>\n",
       "      <th>141</th>\n",
       "      <td>action taken by the company between the dates ...</td>\n",
       "      <td>action take by the company between the date of...</td>\n",
       "      <td>action company date individual group contact c...</td>\n",
       "      <td>action company date individual group contact c...</td>\n",
       "      <td>4</td>\n",
       "    </tr>\n",
       "    <tr>\n",
       "      <th>82</th>\n",
       "      <td>i recently called to ask chase bank why they r...</td>\n",
       "      <td>I recently call to ask chase bank why they rep...</td>\n",
       "      <td>bank credit bureau day payment info xxxx bill ...</td>\n",
       "      <td>bank credit bureau day payment info  bill bala...</td>\n",
       "      <td>4</td>\n",
       "    </tr>\n",
       "    <tr>\n",
       "      <th>20</th>\n",
       "      <td>during the summer months  i experience a decli...</td>\n",
       "      <td>during the summer month   I experience a decli...</td>\n",
       "      <td>summer month income employment month payment e...</td>\n",
       "      <td>summer month income employment month payment e...</td>\n",
       "      <td>4</td>\n",
       "    </tr>\n",
       "    <tr>\n",
       "      <th>167</th>\n",
       "      <td>a double payment from my chase debt cart to ch...</td>\n",
       "      <td>a double payment from my chase debt cart to ch...</td>\n",
       "      <td>payment debt cart credit card post request day...</td>\n",
       "      <td>payment debt cart credit card post request day...</td>\n",
       "      <td>4</td>\n",
       "    </tr>\n",
       "  </tbody>\n",
       "</table>\n",
       "</div>"
      ],
      "text/plain": [
       "                                             complaint  \\\n",
       "1    good morning my name is xxxx xxxx and i apprec...   \n",
       "24   mishandling of this account by chase auto and ...   \n",
       "17   with out notice j p  morgan chase restricted m...   \n",
       "14   my grand son give me check for   1600 00  i de...   \n",
       "27   i opened an account with chase bank on xxxx an...   \n",
       "15                       can you please remove inquiry   \n",
       "10   chase card was reported on xx xx 2019  however...   \n",
       "23   i have a chase credit card which is incorrectl...   \n",
       "26   i have reached out to xxxx several times in at...   \n",
       "11   on xx xx 2018  while trying to book a xxxx  xx...   \n",
       "127  i am xxxx military member   xxxx   with the xx...   \n",
       "99   my name is xxxx xxxx  i have missed a payment ...   \n",
       "81   i bought a new xxxx xxxx on xx xx xxxx from xx...   \n",
       "73   i have wired through one of chase branches in ...   \n",
       "57   i have been trying to do a loan modification w...   \n",
       "32   my chase amazon card was declined for a cateri...   \n",
       "30   to whom it may concern  chase bank charged wro...   \n",
       "2    i upgraded my xxxx xxxx card in xx xx 2018 and...   \n",
       "21   on xxxx xx xx 2019  i made a   300 00  payment...   \n",
       "40   xxxx xxxx a sofa  love seat  table and chairs ...   \n",
       "58   i made a purchase of   260 00  on xx xx xxxx  ...   \n",
       "141  action taken by the company between the dates ...   \n",
       "82   i recently called to ask chase bank why they r...   \n",
       "20   during the summer months  i experience a decli...   \n",
       "167  a double payment from my chase debt cart to ch...   \n",
       "\n",
       "                                  lemmatized_complaint  \\\n",
       "1    good morning my name be xxxx xxxx and I apprec...   \n",
       "24    mishandle of this account by chase auto and xxxx   \n",
       "17   with out notice j p   morgan chase restrict my...   \n",
       "14   my grand son give I check for    1600 00   I d...   \n",
       "27   I open an account with chase bank on xxxx and ...   \n",
       "15                       can you please remove inquiry   \n",
       "10   chase card be report on xx xx 2019   however  ...   \n",
       "23   I have a chase credit card which be incorrectl...   \n",
       "26   I have reach out to xxxx several time in attem...   \n",
       "11   on xx xx 2018   while try to book a xxxx   xxx...   \n",
       "127  I be xxxx military member    xxxx    with the ...   \n",
       "99   my name be xxxx xxxx   I have miss a payment i...   \n",
       "81   I buy a new xxxx xxxx on xx xx xxxx from xxxx ...   \n",
       "73   I have wire through one of chase branch in xxx...   \n",
       "57   I have be try to do a loan modification with c...   \n",
       "32   my chase amazon card be decline for a catering...   \n",
       "30   to whom it may concern   chase bank charge wro...   \n",
       "2    I upgrade my xxxx xxxx card in xx xx 2018 and ...   \n",
       "21   on xxxx xx xx 2019   I make a    300 00   paym...   \n",
       "40   xxxx xxxx a sofa   love seat   table and chair...   \n",
       "58   I make a purchase of    260 00   on xx xx xxxx...   \n",
       "141  action take by the company between the date of...   \n",
       "82   I recently call to ask chase bank why they rep...   \n",
       "20   during the summer month   I experience a decli...   \n",
       "167  a double payment from my chase debt cart to ch...   \n",
       "\n",
       "                                 complaint_POS_removed  \\\n",
       "1    morning name stop bank cardmember service ask ...   \n",
       "24                         mishandle account auto xxxx   \n",
       "17   j p chase account debit card tuesday xx branch...   \n",
       "14   son chase account fund bank account pay money ...   \n",
       "27   account bank code bonus term everything accoun...   \n",
       "15                                             inquiry   \n",
       "10   card xx application identity consent service c...   \n",
       "23   chase credit card datum credit report company ...   \n",
       "26   time attempt inquiry creditor place inquiry re...   \n",
       "11   try book xxxx ticket offer ticket card informa...   \n",
       "127  member xxxx auto finance gap insurance waiver ...   \n",
       "99   name xxxx payment xx day time loan modificatio...   \n",
       "81   xxxx xxxx loan title time resolution time noth...   \n",
       "73   chase branch reinstatement amount bank order f...   \n",
       "57       loan modification chase runaround payment doc   \n",
       "32   chase card decline catering order place brothe...   \n",
       "30   concern bank charge fee balance fee balance tr...   \n",
       "2    card xx agent upgrade date agent information o...   \n",
       "21   payment online retailer use pay xxxx chase web...   \n",
       "40   xxxx love seat table chair charge bank claim f...   \n",
       "58   purchase payment payment closing date please s...   \n",
       "141  action company date individual group contact c...   \n",
       "82   bank credit bureau day payment info xxxx bill ...   \n",
       "20   summer month income employment month payment e...   \n",
       "167  payment debt cart credit card post request day...   \n",
       "\n",
       "                                       Complaint_clean  Topic  \n",
       "1    morning name stop bank cardmember service ask ...      0  \n",
       "24                             mishandle account auto       0  \n",
       "17   j p chase account debit card tuesday xx branch...      0  \n",
       "14   son chase account fund bank account pay money ...      0  \n",
       "27   account bank code bonus term everything accoun...      0  \n",
       "15                                             inquiry      1  \n",
       "10   card xx application identity consent service c...      1  \n",
       "23   chase credit card datum credit report company ...      1  \n",
       "26   time attempt inquiry creditor place inquiry re...      1  \n",
       "11   try book  ticket offer ticket card information...      1  \n",
       "127  member  auto finance gap insurance waiver cove...      2  \n",
       "99   name  payment xx day time loan modification lo...      2  \n",
       "81     loan title time resolution time nothing stat...      2  \n",
       "73   chase branch reinstatement amount bank order f...      2  \n",
       "57       loan modification chase runaround payment doc      2  \n",
       "32   chase card decline catering order place brothe...      3  \n",
       "30   concern bank charge fee balance fee balance tr...      3  \n",
       "2    card xx agent upgrade date agent information o...      3  \n",
       "21   payment online retailer use pay  chase website...      3  \n",
       "40    love seat table chair charge bank claim furni...      3  \n",
       "58   purchase payment payment closing date please s...      4  \n",
       "141  action company date individual group contact c...      4  \n",
       "82   bank credit bureau day payment info  bill bala...      4  \n",
       "20   summer month income employment month payment e...      4  \n",
       "167  payment debt cart credit card post request day...      4  "
      ]
     },
     "execution_count": 46,
     "metadata": {},
     "output_type": "execute_result"
    }
   ],
   "source": [
    "#Print the first 5 Complaint for each of the Topics\n",
    "df_clean.groupby('Topic').head(5).sort_values(by='Topic')"
   ]
  },
  {
   "cell_type": "markdown",
   "metadata": {
    "id": "piyLxzj6v07j"
   },
   "source": [
    "#### After evaluating the mapping, we assigned these names to the relevant topic:\n",
    "* Bank Account services\n",
    "* Credit card or prepaid card\n",
    "* Theft/Dispute Reporting\n",
    "* Mortgage/Loan\n",
    "* Others"
   ]
  },
  {
   "cell_type": "code",
   "execution_count": 47,
   "metadata": {
    "id": "TWpwDG4RJrGG"
   },
   "outputs": [],
   "source": [
    "#Create the dictionary of Topic names and Topics\n",
    "Topic_names = {\n",
    "    0: 'Bank Account services',\n",
    "    1: 'Credit card or prepaid card',\n",
    "    2: 'Others',\n",
    "    3: 'Theft/Dispute Reporting',\n",
    "    4: 'Mortgage/Loan'  }\n",
    "\n",
    "\n",
    "#Replacing the Topics with Topic Names\n",
    "df_clean['Topic'] = df_clean['Topic'].map(Topic_names)"
   ]
  },
  {
   "cell_type": "code",
   "execution_count": 48,
   "metadata": {
    "id": "-2ULY5K6JrGG"
   },
   "outputs": [
    {
     "data": {
      "text/html": [
       "<div>\n",
       "<style scoped>\n",
       "    .dataframe tbody tr th:only-of-type {\n",
       "        vertical-align: middle;\n",
       "    }\n",
       "\n",
       "    .dataframe tbody tr th {\n",
       "        vertical-align: top;\n",
       "    }\n",
       "\n",
       "    .dataframe thead th {\n",
       "        text-align: right;\n",
       "    }\n",
       "</style>\n",
       "<table border=\"1\" class=\"dataframe\">\n",
       "  <thead>\n",
       "    <tr style=\"text-align: right;\">\n",
       "      <th></th>\n",
       "      <th>complaint</th>\n",
       "      <th>lemmatized_complaint</th>\n",
       "      <th>complaint_POS_removed</th>\n",
       "      <th>Complaint_clean</th>\n",
       "      <th>Topic</th>\n",
       "    </tr>\n",
       "  </thead>\n",
       "  <tbody>\n",
       "    <tr>\n",
       "      <th>1</th>\n",
       "      <td>good morning my name is xxxx xxxx and i apprec...</td>\n",
       "      <td>good morning my name be xxxx xxxx and I apprec...</td>\n",
       "      <td>morning name stop bank cardmember service ask ...</td>\n",
       "      <td>morning name stop bank cardmember service ask ...</td>\n",
       "      <td>Bank Account services</td>\n",
       "    </tr>\n",
       "    <tr>\n",
       "      <th>2</th>\n",
       "      <td>i upgraded my xxxx xxxx card in xx xx 2018 and...</td>\n",
       "      <td>I upgrade my xxxx xxxx card in xx xx 2018 and ...</td>\n",
       "      <td>card xx agent upgrade date agent information o...</td>\n",
       "      <td>card xx agent upgrade date agent information o...</td>\n",
       "      <td>Theft/Dispute Reporting</td>\n",
       "    </tr>\n",
       "  </tbody>\n",
       "</table>\n",
       "</div>"
      ],
      "text/plain": [
       "                                           complaint  \\\n",
       "1  good morning my name is xxxx xxxx and i apprec...   \n",
       "2  i upgraded my xxxx xxxx card in xx xx 2018 and...   \n",
       "\n",
       "                                lemmatized_complaint  \\\n",
       "1  good morning my name be xxxx xxxx and I apprec...   \n",
       "2  I upgrade my xxxx xxxx card in xx xx 2018 and ...   \n",
       "\n",
       "                               complaint_POS_removed  \\\n",
       "1  morning name stop bank cardmember service ask ...   \n",
       "2  card xx agent upgrade date agent information o...   \n",
       "\n",
       "                                     Complaint_clean                    Topic  \n",
       "1  morning name stop bank cardmember service ask ...    Bank Account services  \n",
       "2  card xx agent upgrade date agent information o...  Theft/Dispute Reporting  "
      ]
     },
     "execution_count": 48,
     "metadata": {},
     "output_type": "execute_result"
    }
   ],
   "source": [
    "df_clean.head(2)"
   ]
  },
  {
   "cell_type": "markdown",
   "metadata": {
    "id": "7Mu0QBOcJrGH"
   },
   "source": [
    "#### Supervised model to predict any new complaints to the relevant Topics.\n",
    "\n",
    "we build the model to create the topics for each complaints.Now in the below section you will use them to classify any new complaints.\n",
    "\n",
    "we have converted the topic names to numbers(numpy arrays only understand numbers)"
   ]
  },
  {
   "cell_type": "code",
   "execution_count": 49,
   "metadata": {
    "id": "Xx-FrbkWJrGH"
   },
   "outputs": [],
   "source": [
    "#Keep the columns\"complaint\" & \"Topic\" only in the new dataframe --> training_data\n",
    "training_data=df_clean[['complaint','Topic']]"
   ]
  },
  {
   "cell_type": "code",
   "execution_count": 50,
   "metadata": {
    "id": "lVg2pa12JrGI"
   },
   "outputs": [
    {
     "data": {
      "text/html": [
       "<div>\n",
       "<style scoped>\n",
       "    .dataframe tbody tr th:only-of-type {\n",
       "        vertical-align: middle;\n",
       "    }\n",
       "\n",
       "    .dataframe tbody tr th {\n",
       "        vertical-align: top;\n",
       "    }\n",
       "\n",
       "    .dataframe thead th {\n",
       "        text-align: right;\n",
       "    }\n",
       "</style>\n",
       "<table border=\"1\" class=\"dataframe\">\n",
       "  <thead>\n",
       "    <tr style=\"text-align: right;\">\n",
       "      <th></th>\n",
       "      <th>complaint</th>\n",
       "      <th>Topic</th>\n",
       "    </tr>\n",
       "  </thead>\n",
       "  <tbody>\n",
       "    <tr>\n",
       "      <th>1</th>\n",
       "      <td>good morning my name is xxxx xxxx and i apprec...</td>\n",
       "      <td>Bank Account services</td>\n",
       "    </tr>\n",
       "    <tr>\n",
       "      <th>2</th>\n",
       "      <td>i upgraded my xxxx xxxx card in xx xx 2018 and...</td>\n",
       "      <td>Theft/Dispute Reporting</td>\n",
       "    </tr>\n",
       "  </tbody>\n",
       "</table>\n",
       "</div>"
      ],
      "text/plain": [
       "                                           complaint                    Topic\n",
       "1  good morning my name is xxxx xxxx and i apprec...    Bank Account services\n",
       "2  i upgraded my xxxx xxxx card in xx xx 2018 and...  Theft/Dispute Reporting"
      ]
     },
     "execution_count": 50,
     "metadata": {},
     "output_type": "execute_result"
    }
   ],
   "source": [
    "training_data.head(2)"
   ]
  },
  {
   "cell_type": "markdown",
   "metadata": {
    "id": "280Vbqk-7a8M"
   },
   "source": [
    "####Apply the supervised models on the training data created. In this process, you have to do the following:\n",
    "* Create the vector counts using Count Vectoriser\n",
    "* Transform the word vecotr to tf-idf\n",
    "* Create the train & test data using the train_test_split on the tf-idf & topics\n"
   ]
  },
  {
   "cell_type": "code",
   "execution_count": 51,
   "metadata": {
    "id": "oUlQpgkzJrGI"
   },
   "outputs": [],
   "source": [
    "#Write your code to get the Vector count\n",
    "count_vect=CountVectorizer()\n",
    "X_train_counts=count_vect.fit_transform(training_data['complaint'])"
   ]
  },
  {
   "cell_type": "code",
   "execution_count": 53,
   "metadata": {},
   "outputs": [],
   "source": [
    "#Write your code here to transform the word vector to tf-idf\n",
    "from sklearn.feature_extraction.text import TfidfTransformer\n",
    "tfidf_transformer=TfidfTransformer()\n",
    "X_train_tf=tfidf_transformer.fit_transform(X_train_counts)\n"
   ]
  },
  {
   "cell_type": "markdown",
   "metadata": {},
   "source": [
    "# MODEL BUILDING"
   ]
  },
  {
   "cell_type": "code",
   "execution_count": 54,
   "metadata": {},
   "outputs": [],
   "source": [
    "# splitting the data into train and test\n",
    "X_train, X_test, y_train, y_test = train_test_split(X_train_tf, training_data['Topic'], test_size=0.2, random_state=40)"
   ]
  },
  {
   "cell_type": "code",
   "execution_count": 55,
   "metadata": {},
   "outputs": [],
   "source": [
    "# function to evaluate the model (accuracy,F1-score,precision,Recall,heatmap,classification report) and display the results\n",
    "def eval_model(y_test,y_pred,y_pred_proba,type='Training'):\n",
    "    print(type,'results')\n",
    "    print('Accuracy: ', accuracy_score(y_test,y_pred))\n",
    "    print('Precision: ', precision_score(y_test,y_pred,average='weighted'))\n",
    "    print('Recall: ', recall_score(y_test,y_pred,average='weighted'))\n",
    "    print('F1 Score: ', f1_score(y_test,y_pred,average='weighted'))\n",
    "    print('Classification Report: ', classification_report(y_test,y_pred))\n",
    "    plt.figure(figsize=(10,7))\n",
    "    cm = confusion_matrix(y_test,y_pred)\n",
    "    sns.heatmap(cm, annot=True, cbar=None, cmap=\"Blues\", fmt='d', xticklabels=[\"Bank Account services\", \"Credit card or prepaid card\", \"Others\", \"Theft/Dispute Reporting\",\n",
    "\"Mortgage/Loan\"], yticklabels=[\"Bank Account services\", \"Credit card or prepaid card\", \"Others\", \"Theft/Dispute Reporting\",\n",
    "\"Mortgage/Loan\"])\n",
    "    plt.show()"
   ]
  },
  {
   "cell_type": "markdown",
   "metadata": {
    "id": "uMU3vj6w-wqL"
   },
   "source": [
    "we used 3 models on the train & test data \n",
    "* Logistic regression\n",
    "* Decision Tree\n",
    "* Random Forest"
   ]
  },
  {
   "cell_type": "markdown",
   "metadata": {},
   "source": [
    "### MODEL 1 - LOGISTIC REGRESSION"
   ]
  },
  {
   "cell_type": "code",
   "execution_count": 56,
   "metadata": {},
   "outputs": [],
   "source": [
    "model_name = 'LOGISTIC REGRESSION'\n",
    "#storing the logisticregression inside lr\n",
    "lr = LogisticRegression() \n",
    "#fitting the model on train data\n",
    "lr.fit(X_train, y_train)\n",
    "#predicting on test data\n",
    "y_pred_lr = lr.predict(X_test)"
   ]
  },
  {
   "cell_type": "code",
   "execution_count": 57,
   "metadata": {},
   "outputs": [
    {
     "name": "stdout",
     "output_type": "stream",
     "text": [
      "Fitting 5 folds for each of 60 candidates, totalling 300 fits\n",
      "{'C': 1, 'penalty': 'l1', 'solver': 'saga'}\n"
     ]
    }
   ],
   "source": [
    "# writing the necessary parameters for logistic regression\n",
    "param_lr = {\n",
    "    'penalty': ['l1', 'l2'],\n",
    "    'C': [0.001,0.01,0.1,1,10,100],\n",
    "    'solver':['newton-cg', 'lbfgs', 'liblinear', 'sag', 'saga']\n",
    "}\n",
    "#GridSearchCV is a technique to search through the best parameter values from the given set of the grid of parameters.\n",
    "grid_lr = GridSearchCV(estimator=lr, \n",
    "                       param_grid=param_lr,\n",
    "                       verbose=1,\n",
    "                       scoring='f1_weighted',\n",
    "                       n_jobs=-1,\n",
    "                       cv=5)\n",
    "grid_lr.fit(X_train, y_train)\n",
    "print(grid_lr.best_params_)"
   ]
  },
  {
   "cell_type": "code",
   "execution_count": 58,
   "metadata": {},
   "outputs": [],
   "source": [
    "# tuning the hyper-parameter for getting the best results\n",
    "lr_tuned = LogisticRegression(C=1, penalty='l1',solver='saga')\n",
    "lr_tuned.fit(X_train, y_train)\n",
    "y_pred_lr_tuned = lr_tuned.predict(X_test)"
   ]
  },
  {
   "cell_type": "code",
   "execution_count": 59,
   "metadata": {},
   "outputs": [
    {
     "data": {
      "text/plain": [
       "0.9404716642127063"
      ]
     },
     "execution_count": 59,
     "metadata": {},
     "output_type": "execute_result"
    }
   ],
   "source": [
    "#calculating the F1 score for logistic regression\n",
    "f1_lr = f1_score(y_test, y_pred_lr_tuned, average=\"weighted\")\n",
    "f1_lr"
   ]
  },
  {
   "cell_type": "markdown",
   "metadata": {},
   "source": [
    "THE F1-SCORE OF LOGISTIC REGRESSION IS 94%"
   ]
  },
  {
   "cell_type": "code",
   "execution_count": 60,
   "metadata": {},
   "outputs": [
    {
     "name": "stdout",
     "output_type": "stream",
     "text": [
      "Training results\n",
      "Accuracy:  0.9404507710557533\n",
      "Precision:  0.9405860934486034\n",
      "Recall:  0.9404507710557533\n",
      "F1 Score:  0.9404716642127063\n",
      "Classification Report:                               precision    recall  f1-score   support\n",
      "\n",
      "      Bank Account services       0.95      0.96      0.95      1015\n",
      "Credit card or prepaid card       0.94      0.94      0.94       967\n",
      "              Mortgage/Loan       0.95      0.93      0.94       455\n",
      "                     Others       0.96      0.94      0.95       749\n",
      "    Theft/Dispute Reporting       0.92      0.93      0.92      1029\n",
      "\n",
      "                   accuracy                           0.94      4215\n",
      "                  macro avg       0.94      0.94      0.94      4215\n",
      "               weighted avg       0.94      0.94      0.94      4215\n",
      "\n"
     ]
    },
    {
     "data": {
      "image/png": "[encoded data removed]",
      "text/plain": [
       "<Figure size 720x504 with 1 Axes>"
      ]
     },
     "metadata": {
      "needs_background": "light"
     },
     "output_type": "display_data"
    }
   ],
   "source": [
    "#calculating the overall score and classification report\n",
    "eval_model(y_test, y_pred_lr_tuned, model_name)"
   ]
  },
  {
   "cell_type": "markdown",
   "metadata": {},
   "source": [
    "### MODEL 2 - DECISION TREE"
   ]
  },
  {
   "cell_type": "code",
   "execution_count": 61,
   "metadata": {},
   "outputs": [],
   "source": [
    "model_name = 'DECISION TREE'\n",
    "#initializing the decisiontreeclassifier inside dt\n",
    "dt = DecisionTreeClassifier()\n",
    "#fitting the model on train data\n",
    "dt.fit(X_train, y_train)\n",
    "#predicting on test data\n",
    "y_pred_dt =dt.predict(X_test)"
   ]
  },
  {
   "cell_type": "code",
   "execution_count": 62,
   "metadata": {},
   "outputs": [
    {
     "name": "stdout",
     "output_type": "stream",
     "text": [
      "Fitting 5 folds for each of 72 candidates, totalling 360 fits\n",
      "{'criterion': 'gini', 'max_depth': 30, 'min_samples_leaf': 15}\n"
     ]
    }
   ],
   "source": [
    "# tuning the hyper-parameter for getting the best results\n",
    "param_dt = {\n",
    "    'criterion': ['gini', 'entropy'],\n",
    "    'max_depth' : [5, 10, 15, 20, 25, 30],\n",
    "    'min_samples_leaf':[1,5,10,15, 20, 25],\n",
    "    \n",
    "}\n",
    "\n",
    "grid_dt = GridSearchCV(estimator=dt, \n",
    "                       param_grid=param_dt,\n",
    "                       verbose=1,\n",
    "                       scoring='f1_weighted',\n",
    "                       n_jobs=-1,\n",
    "                       cv=5)\n",
    "grid_dt.fit(X_train, y_train)\n",
    "print(grid_dt.best_params_)"
   ]
  },
  {
   "cell_type": "code",
   "execution_count": 63,
   "metadata": {},
   "outputs": [],
   "source": [
    "# Creating model with best hyperparameter\n",
    "dt_tuned = DecisionTreeClassifier(criterion='gini', \n",
    "                                      max_depth=25, \n",
    "                                      min_samples_leaf=15, \n",
    "                                      )\n",
    "dt_tuned.fit(X_train, y_train)\n",
    "y_pred_dt_tuned = dt_tuned.predict(X_test)"
   ]
  },
  {
   "cell_type": "code",
   "execution_count": 64,
   "metadata": {},
   "outputs": [
    {
     "data": {
      "text/plain": [
       "0.7901938057148487"
      ]
     },
     "execution_count": 64,
     "metadata": {},
     "output_type": "execute_result"
    }
   ],
   "source": [
    "# Calculate F1 Score of tuned model using weighted average method\n",
    "f1_dt = f1_score(y_test, y_pred_dt_tuned, average=\"weighted\")\n",
    "f1_dt"
   ]
  },
  {
   "cell_type": "markdown",
   "metadata": {},
   "source": [
    "THE F1-SCORE OF DECISSION TREE IS 78%"
   ]
  },
  {
   "cell_type": "code",
   "execution_count": 65,
   "metadata": {},
   "outputs": [
    {
     "name": "stdout",
     "output_type": "stream",
     "text": [
      "Training results\n",
      "Accuracy:  0.9404507710557533\n",
      "Precision:  0.9405860934486034\n",
      "Recall:  0.9404507710557533\n",
      "F1 Score:  0.9404716642127063\n",
      "Classification Report:                               precision    recall  f1-score   support\n",
      "\n",
      "      Bank Account services       0.95      0.96      0.95      1015\n",
      "Credit card or prepaid card       0.94      0.94      0.94       967\n",
      "              Mortgage/Loan       0.95      0.93      0.94       455\n",
      "                     Others       0.96      0.94      0.95       749\n",
      "    Theft/Dispute Reporting       0.92      0.93      0.92      1029\n",
      "\n",
      "                   accuracy                           0.94      4215\n",
      "                  macro avg       0.94      0.94      0.94      4215\n",
      "               weighted avg       0.94      0.94      0.94      4215\n",
      "\n"
     ]
    },
    {
     "data": {
      "image/png": "[encoded data removed]",
      "text/plain": [
       "<Figure size 720x504 with 1 Axes>"
      ]
     },
     "metadata": {
      "needs_background": "light"
     },
     "output_type": "display_data"
    }
   ],
   "source": [
    "#calculating the overall score and classification report\n",
    "eval_model(y_test, y_pred_lr_tuned, model_name)"
   ]
  },
  {
   "cell_type": "markdown",
   "metadata": {},
   "source": [
    "### MODEL 3 - RANDOM FOREST"
   ]
  },
  {
   "cell_type": "code",
   "execution_count": 66,
   "metadata": {},
   "outputs": [],
   "source": [
    "# running the random forest model with default parameters\n",
    "model_name = 'RANDOM FOREST'\n",
    "rfc = RandomForestClassifier(max_depth=10)\n",
    "#fitting the model using train data\n",
    "rfc.fit(X_train, y_train)\n",
    "#predicting on test set\n",
    "y_pred_rfc = rfc.predict(X_test)"
   ]
  },
  {
   "cell_type": "code",
   "execution_count": 67,
   "metadata": {},
   "outputs": [
    {
     "data": {
      "text/plain": [
       "0.6840159059719041"
      ]
     },
     "execution_count": 67,
     "metadata": {},
     "output_type": "execute_result"
    }
   ],
   "source": [
    "# Calculate F1 Score of tuned model using weighted average method\n",
    "f1_rfc = f1_score(y_test, y_pred_rfc, average=\"weighted\")\n",
    "f1_rfc"
   ]
  },
  {
   "cell_type": "markdown",
   "metadata": {},
   "source": [
    "THE F1-SCORE OF RANDOM FOREST IS 68%"
   ]
  },
  {
   "cell_type": "code",
   "execution_count": 68,
   "metadata": {},
   "outputs": [
    {
     "name": "stdout",
     "output_type": "stream",
     "text": [
      "Training results\n",
      "Accuracy:  0.9404507710557533\n",
      "Precision:  0.9405860934486034\n",
      "Recall:  0.9404507710557533\n",
      "F1 Score:  0.9404716642127063\n",
      "Classification Report:                               precision    recall  f1-score   support\n",
      "\n",
      "      Bank Account services       0.95      0.96      0.95      1015\n",
      "Credit card or prepaid card       0.94      0.94      0.94       967\n",
      "              Mortgage/Loan       0.95      0.93      0.94       455\n",
      "                     Others       0.96      0.94      0.95       749\n",
      "    Theft/Dispute Reporting       0.92      0.93      0.92      1029\n",
      "\n",
      "                   accuracy                           0.94      4215\n",
      "                  macro avg       0.94      0.94      0.94      4215\n",
      "               weighted avg       0.94      0.94      0.94      4215\n",
      "\n"
     ]
    },
    {
     "data": {
      "image/png": "[encoded data removed]",
      "text/plain": [
       "<Figure size 720x504 with 1 Axes>"
      ]
     },
     "metadata": {
      "needs_background": "light"
     },
     "output_type": "display_data"
    }
   ],
   "source": [
    "#calculating the overall score and classification report\n",
    "eval_model(y_test, y_pred_lr_tuned, model_name)"
   ]
  },
  {
   "cell_type": "markdown",
   "metadata": {},
   "source": [
    "we used three models which are logistic regression,decision tress,random forest-out of all these models logistic regression \n",
    "gives a good accuracy score of 94% so we use that model for inferencing on test data."
   ]
  },
  {
   "cell_type": "markdown",
   "metadata": {},
   "source": [
    "# MODEL INFERENCE"
   ]
  },
  {
   "cell_type": "code",
   "execution_count": 69,
   "metadata": {},
   "outputs": [
    {
     "name": "stdout",
     "output_type": "stream",
     "text": [
      "{0: 'Bank Account services', 1: 'Credit card or prepaid card', 2: 'Others', 3: 'Theft/Dispute Reporting', 4: 'Mortgage/Loan'}\n"
     ]
    }
   ],
   "source": [
    "print(Topic_names)"
   ]
  },
  {
   "cell_type": "code",
   "execution_count": 70,
   "metadata": {},
   "outputs": [
    {
     "data": {
      "text/html": [
       "<div>\n",
       "<style scoped>\n",
       "    .dataframe tbody tr th:only-of-type {\n",
       "        vertical-align: middle;\n",
       "    }\n",
       "\n",
       "    .dataframe tbody tr th {\n",
       "        vertical-align: top;\n",
       "    }\n",
       "\n",
       "    .dataframe thead th {\n",
       "        text-align: right;\n",
       "    }\n",
       "</style>\n",
       "<table border=\"1\" class=\"dataframe\">\n",
       "  <thead>\n",
       "    <tr style=\"text-align: right;\">\n",
       "      <th></th>\n",
       "      <th>complaint</th>\n",
       "    </tr>\n",
       "  </thead>\n",
       "  <tbody>\n",
       "    <tr>\n",
       "      <th>0</th>\n",
       "      <td>I received a fraudulent email about a merchant...</td>\n",
       "    </tr>\n",
       "    <tr>\n",
       "      <th>1</th>\n",
       "      <td>Last credit card report shown a duplicated cha...</td>\n",
       "    </tr>\n",
       "    <tr>\n",
       "      <th>2</th>\n",
       "      <td>I can not get from chase who services my mortg...</td>\n",
       "    </tr>\n",
       "    <tr>\n",
       "      <th>3</th>\n",
       "      <td>I want to open a bank account at the nearest l...</td>\n",
       "    </tr>\n",
       "    <tr>\n",
       "      <th>4</th>\n",
       "      <td>What are the different ways I can make payments?</td>\n",
       "    </tr>\n",
       "  </tbody>\n",
       "</table>\n",
       "</div>"
      ],
      "text/plain": [
       "                                           complaint\n",
       "0  I received a fraudulent email about a merchant...\n",
       "1  Last credit card report shown a duplicated cha...\n",
       "2  I can not get from chase who services my mortg...\n",
       "3  I want to open a bank account at the nearest l...\n",
       "4   What are the different ways I can make payments?"
      ]
     },
     "execution_count": 70,
     "metadata": {},
     "output_type": "execute_result"
    }
   ],
   "source": [
    "#taking a sample complaint for infering model\n",
    "df_complaints = pd.DataFrame({'complaint': [\n",
    "                                  \"I received a fraudulent email about a merchant saying a dispute with me is open and requested some information.\",\n",
    "                                  \"Last credit card report shown a duplicated charge. Please take a look into it.\",\n",
    "                                  \"I can not get from chase who services my mortgage, who owns it and who has original loan docs\", \n",
    "                                  \"I want to open a bank account at the nearest location with initial funds. Please provide me the procedure.\",\n",
    "                                  \"What are the different ways I can make payments?\"]})\n",
    "df_complaints"
   ]
  },
  {
   "cell_type": "code",
   "execution_count": 71,
   "metadata": {},
   "outputs": [],
   "source": [
    "#function for predicting best model\n",
    "def predict_best_model(text):\n",
    "    X_new_counts = count_vect.transform(text)\n",
    "    X_new_tfidf = tfidf_transformer.transform(X_new_counts)\n",
    "    predicted = lr_tuned.predict(X_new_tfidf)\n",
    "    return predicted[0]"
   ]
  },
  {
   "cell_type": "code",
   "execution_count": 72,
   "metadata": {},
   "outputs": [
    {
     "data": {
      "text/html": [
       "<div>\n",
       "<style scoped>\n",
       "    .dataframe tbody tr th:only-of-type {\n",
       "        vertical-align: middle;\n",
       "    }\n",
       "\n",
       "    .dataframe tbody tr th {\n",
       "        vertical-align: top;\n",
       "    }\n",
       "\n",
       "    .dataframe thead th {\n",
       "        text-align: right;\n",
       "    }\n",
       "</style>\n",
       "<table border=\"1\" class=\"dataframe\">\n",
       "  <thead>\n",
       "    <tr style=\"text-align: right;\">\n",
       "      <th></th>\n",
       "      <th>complaint</th>\n",
       "      <th>Topic</th>\n",
       "    </tr>\n",
       "  </thead>\n",
       "  <tbody>\n",
       "    <tr>\n",
       "      <th>0</th>\n",
       "      <td>I received a fraudulent email about a merchant...</td>\n",
       "      <td>Theft/Dispute Reporting</td>\n",
       "    </tr>\n",
       "    <tr>\n",
       "      <th>1</th>\n",
       "      <td>Last credit card report shown a duplicated cha...</td>\n",
       "      <td>Credit card or prepaid card</td>\n",
       "    </tr>\n",
       "    <tr>\n",
       "      <th>2</th>\n",
       "      <td>I can not get from chase who services my mortg...</td>\n",
       "      <td>Others</td>\n",
       "    </tr>\n",
       "    <tr>\n",
       "      <th>3</th>\n",
       "      <td>I want to open a bank account at the nearest l...</td>\n",
       "      <td>Bank Account services</td>\n",
       "    </tr>\n",
       "    <tr>\n",
       "      <th>4</th>\n",
       "      <td>What are the different ways I can make payments?</td>\n",
       "      <td>Mortgage/Loan</td>\n",
       "    </tr>\n",
       "  </tbody>\n",
       "</table>\n",
       "</div>"
      ],
      "text/plain": [
       "                                           complaint  \\\n",
       "0  I received a fraudulent email about a merchant...   \n",
       "1  Last credit card report shown a duplicated cha...   \n",
       "2  I can not get from chase who services my mortg...   \n",
       "3  I want to open a bank account at the nearest l...   \n",
       "4   What are the different ways I can make payments?   \n",
       "\n",
       "                         Topic  \n",
       "0      Theft/Dispute Reporting  \n",
       "1  Credit card or prepaid card  \n",
       "2                       Others  \n",
       "3        Bank Account services  \n",
       "4                Mortgage/Loan  "
      ]
     },
     "execution_count": 72,
     "metadata": {},
     "output_type": "execute_result"
    }
   ],
   "source": [
    "#displaying complaint and respective topics as a tabular form\n",
    "df_complaints['Topic'] = df_complaints['complaint'].apply(lambda x: predict_best_model([x]))\n",
    "df_complaints"
   ]
  },
  {
   "cell_type": "markdown",
   "metadata": {},
   "source": [
    "# Conclusion"
   ]
  },
  {
   "cell_type": "markdown",
   "metadata": {},
   "source": [
    "Logistic Regression model sucessfully predicted the topics complaint sample. \n",
    "Therefore, our model efficiently classifies customer complaints."
   ]
  },
  {
   "cell_type": "code",
   "execution_count": null,
   "metadata": {},
   "outputs": [],
   "source": []
  }
 ],
 "metadata": {
  "colab": {
   "collapsed_sections": [
    "T9jD_6SeJrF3",
    "5DfCSbbmJrF4",
    "yYzD85nTJrGA",
    "piyLxzj6v07j",
    "280Vbqk-7a8M"
   ],
   "provenance": []
  },
  "kernelspec": {
   "display_name": "Python 3 (ipykernel)",
   "language": "python",
   "name": "python3"
  },
  "language_info": {
   "codemirror_mode": {
    "name": "ipython",
    "version": 3
   },
   "file_extension": ".py",
   "mimetype": "text/x-python",
   "name": "python",
   "nbconvert_exporter": "python",
   "pygments_lexer": "ipython3",
   "version": "3.9.12"
  }
 },
 "nbformat": 4,
 "nbformat_minor": 1
}
